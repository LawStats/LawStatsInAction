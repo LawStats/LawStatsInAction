{
 "cells": [
  {
   "cell_type": "markdown",
   "metadata": {
    "id": "bBZ94XmVwYTg",
    "colab_type": "text"
   },
   "source": [
    "# Analyzing high volume German court decisions in an interdisciplinary class of law and computer science students – LSIA\n",
    "\n",
    "The paper can be found at ..."
   ]
  },
  {
   "cell_type": "markdown",
   "metadata": {
    "id": "gcA-47-vwn1U",
    "colab_type": "text"
   },
   "source": [
    "## ML evaluation (Section 4.2)"
   ]
  },
  {
   "cell_type": "code",
   "execution_count": 0,
   "metadata": {
    "id": "p5KlcHmFwHHY",
    "colab_type": "code",
    "colab": {}
   },
   "outputs": [],
   "source": [
    "# Load data and seperate test data set\n",
    "ml_data = pd.read_csv(\"Results/ml_data.csv\", names=[\"id\", \n",
    "                                            'az', \n",
    "                                            'true',\n",
    "                                            'predicted', \n",
    "                                            'testset'])\n",
    "ml_testset = ml_data[ml_data.testset==1]\n",
    "ml_trainingset = ml_data[ml_data.testset!=1]\n",
    "\n",
    "ml_labels = [\n",
    "    1, # Success label\n",
    "    -1, # Failure label\n",
    "    -99 # Miscellaneous label\n",
    "]"
   ]
  },
  {
   "cell_type": "markdown",
   "metadata": {
    "id": "89aT_-GizbkT",
    "colab_type": "text"
   },
   "source": [
    "### Number of annotated decisions, size of training/test set"
   ]
  },
  {
   "cell_type": "code",
   "execution_count": 0,
   "metadata": {
    "id": "gCMobsO7zbMp",
    "colab_type": "code",
    "outputId": "005bc12c-738a-4b77-f87d-c07494e938a5",
    "colab": {
     "base_uri": "https://localhost:8080/",
     "height": 68.0
    }
   },
   "outputs": [
    {
     "name": "stdout",
     "output_type": "stream",
     "text": [
      "Number of annotated decision: 1991\n",
      "Size of trainig set: 1769\n",
      "Size of test set: 222\n"
     ]
    }
   ],
   "source": [
    "print('Number of annotated decision: {}'.format(len(ml_data)))\n",
    "print('Size of training set: {}'.format(len(ml_trainingset)))\n",
    "print('Size of test set: {}'.format(len(ml_testset)))"
   ]
  },
  {
   "cell_type": "markdown",
   "metadata": {
    "id": "5oajOq3v0Orh",
    "colab_type": "text"
   },
   "source": [
    "### Table 1: Evaluation of Appeal Outcome Classification"
   ]
  },
  {
   "cell_type": "code",
   "execution_count": 0,
   "metadata": {
    "id": "4bZ_5gqbzbI5",
    "colab_type": "code",
    "colab": {}
   },
   "outputs": [],
   "source": [
    "from sklearn.metrics import precision_recall_fscore_support\n",
    "from scipy import stats\n",
    "import numpy as np\n",
    "\n",
    "def ml_scores(datatset):\n",
    "  scores = precision_recall_fscore_support(datatset['true'], \n",
    "                                           datatset['predicted'], \n",
    "                                           labels=ml_labels, \n",
    "                                           average=None)\n",
    "  return pd.DataFrame(data=list(scores), \n",
    "               index=['precision', 'recall', 'fbeta_score', 'support'], \n",
    "               columns=ml_labels).T"
   ]
  },
  {
   "cell_type": "code",
   "execution_count": 0,
   "metadata": {
    "id": "Is0Ywslay3Q6",
    "colab_type": "code",
    "outputId": "270d84cd-a8b5-4fb8-8978-f589f3f852a0",
    "colab": {
     "base_uri": "https://localhost:8080/",
     "height": 142.0
    }
   },
   "outputs": [
    {
     "data": {
      "text/html": [
       "<div>\n",
       "<style scoped>\n",
       "    .dataframe tbody tr th:only-of-type {\n",
       "        vertical-align: middle;\n",
       "    }\n",
       "\n",
       "    .dataframe tbody tr th {\n",
       "        vertical-align: top;\n",
       "    }\n",
       "\n",
       "    .dataframe thead th {\n",
       "        text-align: right;\n",
       "    }\n",
       "</style>\n",
       "<table border=\"1\" class=\"dataframe\">\n",
       "  <thead>\n",
       "    <tr style=\"text-align: right;\">\n",
       "      <th></th>\n",
       "      <th>precision</th>\n",
       "      <th>recall</th>\n",
       "      <th>fbeta_score</th>\n",
       "      <th>support</th>\n",
       "    </tr>\n",
       "  </thead>\n",
       "  <tbody>\n",
       "    <tr>\n",
       "      <th>1</th>\n",
       "      <td>0.866667</td>\n",
       "      <td>0.951220</td>\n",
       "      <td>0.906977</td>\n",
       "      <td>82.0</td>\n",
       "    </tr>\n",
       "    <tr>\n",
       "      <th>-1</th>\n",
       "      <td>0.915966</td>\n",
       "      <td>0.923729</td>\n",
       "      <td>0.919831</td>\n",
       "      <td>118.0</td>\n",
       "    </tr>\n",
       "    <tr>\n",
       "      <th>-99</th>\n",
       "      <td>0.615385</td>\n",
       "      <td>0.363636</td>\n",
       "      <td>0.457143</td>\n",
       "      <td>22.0</td>\n",
       "    </tr>\n",
       "  </tbody>\n",
       "</table>\n",
       "</div>"
      ],
      "text/plain": [
       "     precision    recall  fbeta_score  support\n",
       " 1    0.866667  0.951220     0.906977     82.0\n",
       "-1    0.915966  0.923729     0.919831    118.0\n",
       "-99   0.615385  0.363636     0.457143     22.0"
      ]
     },
     "execution_count": 49,
     "metadata": {
      "tags": []
     },
     "output_type": "execute_result"
    }
   ],
   "source": [
    "# Test set scores\n",
    "ml_scores(ml_testset)"
   ]
  },
  {
   "cell_type": "code",
   "execution_count": 0,
   "metadata": {
    "id": "80DcWloW3NfS",
    "colab_type": "code",
    "outputId": "4234eea4-5352-4203-c34f-8ddbff7ba72f",
    "colab": {
     "base_uri": "https://localhost:8080/",
     "height": 142.0
    }
   },
   "outputs": [
    {
     "data": {
      "text/html": [
       "<div>\n",
       "<style scoped>\n",
       "    .dataframe tbody tr th:only-of-type {\n",
       "        vertical-align: middle;\n",
       "    }\n",
       "\n",
       "    .dataframe tbody tr th {\n",
       "        vertical-align: top;\n",
       "    }\n",
       "\n",
       "    .dataframe thead th {\n",
       "        text-align: right;\n",
       "    }\n",
       "</style>\n",
       "<table border=\"1\" class=\"dataframe\">\n",
       "  <thead>\n",
       "    <tr style=\"text-align: right;\">\n",
       "      <th></th>\n",
       "      <th>precision</th>\n",
       "      <th>recall</th>\n",
       "      <th>fbeta_score</th>\n",
       "      <th>support</th>\n",
       "    </tr>\n",
       "  </thead>\n",
       "  <tbody>\n",
       "    <tr>\n",
       "      <th>1</th>\n",
       "      <td>0.934037</td>\n",
       "      <td>0.977901</td>\n",
       "      <td>0.955466</td>\n",
       "      <td>724.0</td>\n",
       "    </tr>\n",
       "    <tr>\n",
       "      <th>-1</th>\n",
       "      <td>0.954853</td>\n",
       "      <td>0.957014</td>\n",
       "      <td>0.955932</td>\n",
       "      <td>884.0</td>\n",
       "    </tr>\n",
       "    <tr>\n",
       "      <th>-99</th>\n",
       "      <td>0.888000</td>\n",
       "      <td>0.689441</td>\n",
       "      <td>0.776224</td>\n",
       "      <td>161.0</td>\n",
       "    </tr>\n",
       "  </tbody>\n",
       "</table>\n",
       "</div>"
      ],
      "text/plain": [
       "     precision    recall  fbeta_score  support\n",
       " 1    0.934037  0.977901     0.955466    724.0\n",
       "-1    0.954853  0.957014     0.955932    884.0\n",
       "-99   0.888000  0.689441     0.776224    161.0"
      ]
     },
     "execution_count": 50,
     "metadata": {
      "tags": []
     },
     "output_type": "execute_result"
    }
   ],
   "source": [
    "# Training set scores\n",
    "ml_scores(ml_trainingset)"
   ]
  },
  {
   "cell_type": "markdown",
   "metadata": {
    "id": "Om65AR_s3v5g",
    "colab_type": "text"
   },
   "source": [
    "### Table 2: Confusion Matrix of Appeal Outcome Classification"
   ]
  },
  {
   "cell_type": "code",
   "execution_count": 0,
   "metadata": {
    "id": "7Sw-ylN23mfV",
    "colab_type": "code",
    "colab": {}
   },
   "outputs": [],
   "source": [
    "from sklearn.metrics import confusion_matrix\n",
    "\n",
    "def ml_confusion_matrix(datatset):\n",
    "  scores = confusion_matrix(datatset['true'], \n",
    "                            datatset['predicted'], \n",
    "                            labels=ml_labels)\n",
    "  return pd.DataFrame(data=list(scores), index=ml_labels, columns=ml_labels)"
   ]
  },
  {
   "cell_type": "code",
   "execution_count": 0,
   "metadata": {
    "id": "wejU_jnf4eSb",
    "colab_type": "code",
    "outputId": "9cf8ccfd-2537-4f1d-c307-83f57596a2a1",
    "colab": {
     "base_uri": "https://localhost:8080/",
     "height": 142.0
    }
   },
   "outputs": [
    {
     "data": {
      "text/html": [
       "<div>\n",
       "<style scoped>\n",
       "    .dataframe tbody tr th:only-of-type {\n",
       "        vertical-align: middle;\n",
       "    }\n",
       "\n",
       "    .dataframe tbody tr th {\n",
       "        vertical-align: top;\n",
       "    }\n",
       "\n",
       "    .dataframe thead th {\n",
       "        text-align: right;\n",
       "    }\n",
       "</style>\n",
       "<table border=\"1\" class=\"dataframe\">\n",
       "  <thead>\n",
       "    <tr style=\"text-align: right;\">\n",
       "      <th></th>\n",
       "      <th>1</th>\n",
       "      <th>-1</th>\n",
       "      <th>-99</th>\n",
       "    </tr>\n",
       "  </thead>\n",
       "  <tbody>\n",
       "    <tr>\n",
       "      <th>1</th>\n",
       "      <td>78</td>\n",
       "      <td>4</td>\n",
       "      <td>0</td>\n",
       "    </tr>\n",
       "    <tr>\n",
       "      <th>-1</th>\n",
       "      <td>4</td>\n",
       "      <td>109</td>\n",
       "      <td>5</td>\n",
       "    </tr>\n",
       "    <tr>\n",
       "      <th>-99</th>\n",
       "      <td>8</td>\n",
       "      <td>6</td>\n",
       "      <td>8</td>\n",
       "    </tr>\n",
       "  </tbody>\n",
       "</table>\n",
       "</div>"
      ],
      "text/plain": [
       "      1   -1   -99\n",
       " 1    78    4    0\n",
       "-1     4  109    5\n",
       "-99    8    6    8"
      ]
     },
     "execution_count": 52,
     "metadata": {
      "tags": []
     },
     "output_type": "execute_result"
    }
   ],
   "source": [
    "# Test set confusion matrix\n",
    "ml_confusion_matrix(ml_testset)"
   ]
  },
  {
   "cell_type": "code",
   "execution_count": 0,
   "metadata": {
    "id": "lMS0pQ5l4-1-",
    "colab_type": "code",
    "outputId": "11917808-f105-40bd-a917-e9af860e5b7e",
    "colab": {
     "base_uri": "https://localhost:8080/",
     "height": 142.0
    }
   },
   "outputs": [
    {
     "data": {
      "text/html": [
       "<div>\n",
       "<style scoped>\n",
       "    .dataframe tbody tr th:only-of-type {\n",
       "        vertical-align: middle;\n",
       "    }\n",
       "\n",
       "    .dataframe tbody tr th {\n",
       "        vertical-align: top;\n",
       "    }\n",
       "\n",
       "    .dataframe thead th {\n",
       "        text-align: right;\n",
       "    }\n",
       "</style>\n",
       "<table border=\"1\" class=\"dataframe\">\n",
       "  <thead>\n",
       "    <tr style=\"text-align: right;\">\n",
       "      <th></th>\n",
       "      <th>1</th>\n",
       "      <th>-1</th>\n",
       "      <th>-99</th>\n",
       "    </tr>\n",
       "  </thead>\n",
       "  <tbody>\n",
       "    <tr>\n",
       "      <th>1</th>\n",
       "      <td>708</td>\n",
       "      <td>12</td>\n",
       "      <td>4</td>\n",
       "    </tr>\n",
       "    <tr>\n",
       "      <th>-1</th>\n",
       "      <td>28</td>\n",
       "      <td>846</td>\n",
       "      <td>10</td>\n",
       "    </tr>\n",
       "    <tr>\n",
       "      <th>-99</th>\n",
       "      <td>22</td>\n",
       "      <td>28</td>\n",
       "      <td>111</td>\n",
       "    </tr>\n",
       "  </tbody>\n",
       "</table>\n",
       "</div>"
      ],
      "text/plain": [
       "      1   -1   -99\n",
       " 1   708   12    4\n",
       "-1    28  846   10\n",
       "-99   22   28  111"
      ]
     },
     "execution_count": 53,
     "metadata": {
      "tags": []
     },
     "output_type": "execute_result"
    }
   ],
   "source": [
    "# Trainig set confusion matrix\n",
    "ml_confusion_matrix(ml_trainingset)"
   ]
  },
  {
   "cell_type": "markdown",
   "metadata": {
    "id": "2v8Vn9EP5XTF",
    "colab_type": "text"
   },
   "source": [
    "## Statistical Description of the Corpus (Section 4.3)"
   ]
  },
  {
   "cell_type": "code",
   "execution_count": 0,
   "metadata": {
    "id": "zMwUsOm65Ltg",
    "colab_type": "code",
    "colab": {}
   },
   "outputs": [],
   "source": [
    "# Load data\n",
    "bgh_data = pd.read_csv('Results/bgh_data.csv')\n",
    "bgh_data = bgh_data.fillna('')"
   ]
  },
  {
   "cell_type": "code",
   "execution_count": 0,
   "metadata": {
    "id": "-xBHzxAi-KDm",
    "colab_type": "code",
    "colab": {}
   },
   "outputs": [],
   "source": [
    "# Add senat to data\n",
    "bgh_data['Senat'] = [obj.split(' ')[0] for obj in bgh_data.DocketNumber]\n",
    "\n",
    "bgh_data['MainSenat'] =  bgh_data.Senat.map(lambda senat: senat in \n",
    "                                  ['1','2','3','4','5','I','II',\n",
    "                                   'III','IV','V','VI','VII','VIII',\n",
    "                                   'IX','X','XI','XII'])\n",
    "\n",
    "\n",
    "# Add previous instance (including date)\n",
    "def find_previous_instance(row):\n",
    "    if (len(row.DecisionOLG) > 0):\n",
    "        return row.DecisionOLG\n",
    "    if (len(row.DecisionLG) > 0):\n",
    "        return row.DecisionLG\n",
    "    if (len(row.DecisionAG) > 0):\n",
    "        return row.DecisionAG\n",
    "    return \"\"\n",
    "bgh_data['DecisionPrevious'] = bgh_data.apply(find_previous_instance, axis=1)\n",
    "\n",
    "def find_previous_instance_date(row):\n",
    "    if (len(row.DecisionOLG) > 0):\n",
    "        return row.DateOLG\n",
    "    if (len(row.DecisionLG) > 0):\n",
    "        return row.DateLG\n",
    "    if (len(row.DecisionAG) > 0):\n",
    "        return row.DateAG\n",
    "    return 0\n",
    "bgh_data['DatePrevious'] = bgh_data.apply(find_previous_instance_date, axis=1)"
   ]
  },
  {
   "cell_type": "code",
   "execution_count": 0,
   "metadata": {
    "id": "n-1verOzGPlb",
    "colab_type": "code",
    "colab": {}
   },
   "outputs": [],
   "source": [
    "from datetime import datetime, timezone, timedelta\n",
    "\n",
    "# Add weekday\n",
    "def epoche_to_day(ep):\n",
    "  if ep == 0:\n",
    "    return None\n",
    "  return datetime.fromtimestamp(ep/1000, timezone(timedelta(hours=2))).strftime(\"%A\")\n",
    "\n",
    "bgh_data['Weekday'] = bgh_data.DateDecision.map(epoche_to_day)\n",
    "\n",
    "# Add duration\n",
    "def add_duration(row):\n",
    "  if row.DatePrevious > 0:\n",
    "    return round((row.DateDecision-row.DatePrevious)/1000/3600/24) \n",
    "  return None\n",
    "\n",
    "bgh_data['Duration'] = bgh_data.apply(add_duration, axis=1)\n",
    "\n",
    "# Mark criminal decisions (Docker numbers begin with one arabic number)\n",
    "bgh_data['Criminal'] = bgh_data.DocketNumber.str.contains('^\\d\\s', regex=True)"
   ]
  },
  {
   "cell_type": "code",
   "execution_count": 0,
   "metadata": {
    "id": "JTidIbwYAfOi",
    "colab_type": "code",
    "colab": {}
   },
   "outputs": [],
   "source": [
    "bgh_docket_number = bgh_data[bgh_data['Senat']!=\"\"]\n",
    "bgh_main_senats = bgh_docket_number[bgh_docket_number.MainSenat]\n",
    "\n",
    "bgh_criminal = bgh_docket_number[bgh_docket_number.Criminal == True]\n",
    "bgh_civil = bgh_docket_number[bgh_docket_number.Criminal != True]"
   ]
  },
  {
   "cell_type": "code",
   "execution_count": 0,
   "metadata": {
    "id": "mpLXQzGohKCR",
    "colab_type": "code",
    "colab": {}
   },
   "outputs": [],
   "source": [
    "olg_distances = pd.read_csv('./Results/olg_distances.csv')"
   ]
  },
  {
   "cell_type": "markdown",
   "metadata": {
    "id": "t3Tb3mjk81ja",
    "colab_type": "text"
   },
   "source": [
    "### The Population (Section 4.3.1)"
   ]
  },
  {
   "cell_type": "code",
   "execution_count": 0,
   "metadata": {
    "id": "Eb3aiDYb7Lcc",
    "colab_type": "code",
    "outputId": "884bdc4e-d256-4783-b7de-59115573a2d3",
    "colab": {
     "base_uri": "https://localhost:8080/",
     "height": 68.0
    }
   },
   "outputs": [
    {
     "name": "stdout",
     "output_type": "stream",
     "text": [
      "Total number of decisions: 56288\n",
      "Number of decisions with docket number: 56011\n",
      "Number of decisions with docket number and decision outcome: 53573\n"
     ]
    }
   ],
   "source": [
    "print(\"Total number of decisions: {}\".format(len(bgh_data)))\n",
    "\n",
    "\n",
    "print(\"Number of decisions with docket number: {}\".format(\n",
    "    len(bgh_docket_number)))\n",
    "\n",
    "print(\"Number of decisions with docket number and decision outcome: {}\".format(\n",
    "    len(bgh_docket_number[bgh_docket_number.RevisionOutcome!=-99])))\n"
   ]
  },
  {
   "cell_type": "code",
   "execution_count": 0,
   "metadata": {
    "id": "BFur3EYg96_C",
    "colab_type": "code",
    "colab": {}
   },
   "outputs": [],
   "source": [
    "def calculate_ratios(df):\n",
    "  counts = df.RevisionOutcome.value_counts()\n",
    "  print(\"Successful decisions: {} or {}\".format(\n",
    "      counts[1],\n",
    "      counts[1] / (counts[1]+counts[-1])\n",
    "  ))\n",
    "  print(\"Unsuccessful decisions: {} or {}\".format(\n",
    "      counts[-1],\n",
    "      counts[-1] / (counts[1]+counts[-1])\n",
    "  ))\n",
    "  print(\"Miscellaneous decisions: {}\".format(\n",
    "      counts[-99])\n",
    "  )\n",
    "  print(\"Total decisions: {}\".format(\n",
    "      len(df))\n",
    "  ) "
   ]
  },
  {
   "cell_type": "code",
   "execution_count": 0,
   "metadata": {
    "id": "-J52P2krDLlG",
    "colab_type": "code",
    "outputId": "868108d3-1b8b-40dd-a13b-06ba44a3a64f",
    "colab": {
     "base_uri": "https://localhost:8080/",
     "height": 85.0
    }
   },
   "outputs": [
    {
     "name": "stdout",
     "output_type": "stream",
     "text": [
      "Successful decisions: 24658 or 0.4602691654378138\n",
      "Unsuccessful decisions: 28915 or 0.5397308345621862\n",
      "Miscellaneous decisions: 2438\n",
      "Total decisions: 56011\n"
     ]
    }
   ],
   "source": [
    "# All decisions with docket number\n",
    "calculate_ratios(bgh_docket_number)"
   ]
  },
  {
   "cell_type": "code",
   "execution_count": 0,
   "metadata": {
    "id": "MTR_gCJxEXfS",
    "colab_type": "code",
    "outputId": "950acc7f-a159-4b44-e037-38d6096b740e",
    "colab": {
     "base_uri": "https://localhost:8080/",
     "height": 85.0
    }
   },
   "outputs": [
    {
     "name": "stdout",
     "output_type": "stream",
     "text": [
      "Successful decisions: 10294 or 0.5554716166630693\n",
      "Unsuccessful decisions: 8238 or 0.44452838333693073\n",
      "Miscellaneous decisions: 733\n",
      "Total decisions: 19265\n"
     ]
    }
   ],
   "source": [
    "# Criminal decisions\n",
    "calculate_ratios(bgh_criminal)"
   ]
  },
  {
   "cell_type": "code",
   "execution_count": 0,
   "metadata": {
    "id": "dLomD6bhFDtu",
    "colab_type": "code",
    "outputId": "0ae27c13-72ac-4bd7-8f7b-17d7436bb135",
    "colab": {
     "base_uri": "https://localhost:8080/",
     "height": 85.0
    }
   },
   "outputs": [
    {
     "name": "stdout",
     "output_type": "stream",
     "text": [
      "Successful decisions: 14364 or 0.4099198082246511\n",
      "Unsuccessful decisions: 20677 or 0.5900801917753489\n",
      "Miscellaneous decisions: 1705\n",
      "Total decisions: 36746\n"
     ]
    }
   ],
   "source": [
    "# Civil decisions\n",
    "calculate_ratios(bgh_civil)"
   ]
  },
  {
   "cell_type": "code",
   "execution_count": 0,
   "metadata": {
    "id": "BCmYAaJvFQ8-",
    "colab_type": "code",
    "outputId": "ba318470-ab12-4f1a-b4c6-8781fd69ae29",
    "colab": {
     "base_uri": "https://localhost:8080/",
     "height": 34.0
    }
   },
   "outputs": [
    {
     "name": "stdout",
     "output_type": "stream",
     "text": [
      "Delta success quote: 0.1455518084384182\n"
     ]
    }
   ],
   "source": [
    "counts_civil = bgh_civil.RevisionOutcome.value_counts()\n",
    "counts_criminal = bgh_criminal.RevisionOutcome.value_counts()\n",
    "print(\"Delta success quote: {}\".format(\n",
    "    counts_criminal[1] / (counts_criminal[1]+counts_criminal[-1]) -\n",
    "    counts_civil[1] / (counts_civil[1]+counts_civil[-1])\n",
    ")) "
   ]
  },
  {
   "cell_type": "markdown",
   "metadata": {
    "id": "8t2Ow1ktGBX6",
    "colab_type": "text"
   },
   "source": [
    "### Temporal Analysis (Section 4.3.2)"
   ]
  },
  {
   "cell_type": "code",
   "execution_count": 0,
   "metadata": {
    "id": "qqiBEdfEF00I",
    "colab_type": "code",
    "colab": {}
   },
   "outputs": [],
   "source": [
    "def filter_weekday(df):\n",
    "  '''\n",
    "  Removes decisions on weekends and with undefined days\n",
    "  '''\n",
    "  filter = [day in ['Monday', 'Tuesday', 'Wednesday', 'Thursday', 'Friday']\n",
    "           for day in df.Weekday]\n",
    "  return df[filter]\n",
    "\n",
    "def analyse_weekday(df):\n",
    "  result = []\n",
    "  for name,group in df[df.RevisionOutcome > -2].groupby('Weekday'):\n",
    "    result.append([\n",
    "        name,\n",
    "        group['RevisionOutcome'].mean()/2+0.5, # Convert -1, 1 to 0, 1\n",
    "        len(group),\n",
    "    ])\n",
    "  result = pd.DataFrame(result, columns=['Weekday','SuccessRates','Count'])\n",
    "  result['Distribution'] = result.Count/result.Count.sum()\n",
    "  result = result.set_index('Weekday')\n",
    "  return result"
   ]
  },
  {
   "cell_type": "code",
   "execution_count": 0,
   "metadata": {
    "id": "X1zu1ONdN9zW",
    "colab_type": "code",
    "outputId": "c0ed2d9d-8a8a-4832-d5f2-135c0221cc2b",
    "colab": {
     "base_uri": "https://localhost:8080/",
     "height": 235.0
    }
   },
   "outputs": [
    {
     "data": {
      "text/html": [
       "<div>\n",
       "<style scoped>\n",
       "    .dataframe tbody tr th:only-of-type {\n",
       "        vertical-align: middle;\n",
       "    }\n",
       "\n",
       "    .dataframe tbody tr th {\n",
       "        vertical-align: top;\n",
       "    }\n",
       "\n",
       "    .dataframe thead th {\n",
       "        text-align: right;\n",
       "    }\n",
       "</style>\n",
       "<table border=\"1\" class=\"dataframe\">\n",
       "  <thead>\n",
       "    <tr style=\"text-align: right;\">\n",
       "      <th></th>\n",
       "      <th>SuccessRates</th>\n",
       "      <th>Count</th>\n",
       "      <th>Distribution</th>\n",
       "    </tr>\n",
       "    <tr>\n",
       "      <th>Weekday</th>\n",
       "      <th></th>\n",
       "      <th></th>\n",
       "      <th></th>\n",
       "    </tr>\n",
       "  </thead>\n",
       "  <tbody>\n",
       "    <tr>\n",
       "      <th>Thursday</th>\n",
       "      <td>0.388906</td>\n",
       "      <td>13340</td>\n",
       "      <td>0.381186</td>\n",
       "    </tr>\n",
       "    <tr>\n",
       "      <th>Wednesday</th>\n",
       "      <td>0.443649</td>\n",
       "      <td>8385</td>\n",
       "      <td>0.239599</td>\n",
       "    </tr>\n",
       "    <tr>\n",
       "      <th>Tuesday</th>\n",
       "      <td>0.433333</td>\n",
       "      <td>8070</td>\n",
       "      <td>0.230598</td>\n",
       "    </tr>\n",
       "    <tr>\n",
       "      <th>Monday</th>\n",
       "      <td>0.292027</td>\n",
       "      <td>3349</td>\n",
       "      <td>0.095697</td>\n",
       "    </tr>\n",
       "    <tr>\n",
       "      <th>Friday</th>\n",
       "      <td>0.522678</td>\n",
       "      <td>1852</td>\n",
       "      <td>0.052920</td>\n",
       "    </tr>\n",
       "  </tbody>\n",
       "</table>\n",
       "</div>"
      ],
      "text/plain": [
       "           SuccessRates  Count  Distribution\n",
       "Weekday                                     \n",
       "Thursday       0.388906  13340      0.381186\n",
       "Wednesday      0.443649   8385      0.239599\n",
       "Tuesday        0.433333   8070      0.230598\n",
       "Monday         0.292027   3349      0.095697\n",
       "Friday         0.522678   1852      0.052920"
      ]
     },
     "execution_count": 66,
     "metadata": {
      "tags": []
     },
     "output_type": "execute_result"
    }
   ],
   "source": [
    "analyse_weekday(filter_weekday(bgh_civil)).sort_values('Distribution', \n",
    "                                                       ascending=False)"
   ]
  },
  {
   "cell_type": "code",
   "execution_count": 0,
   "metadata": {
    "id": "R76rah8_PHGS",
    "colab_type": "code",
    "outputId": "574de76b-8775-4e8b-e043-d46060acb423",
    "colab": {
     "base_uri": "https://localhost:8080/",
     "height": 235.0
    }
   },
   "outputs": [
    {
     "data": {
      "text/html": [
       "<div>\n",
       "<style scoped>\n",
       "    .dataframe tbody tr th:only-of-type {\n",
       "        vertical-align: middle;\n",
       "    }\n",
       "\n",
       "    .dataframe tbody tr th {\n",
       "        vertical-align: top;\n",
       "    }\n",
       "\n",
       "    .dataframe thead th {\n",
       "        text-align: right;\n",
       "    }\n",
       "</style>\n",
       "<table border=\"1\" class=\"dataframe\">\n",
       "  <thead>\n",
       "    <tr style=\"text-align: right;\">\n",
       "      <th></th>\n",
       "      <th>SuccessRates</th>\n",
       "      <th>Count</th>\n",
       "      <th>Distribution</th>\n",
       "    </tr>\n",
       "    <tr>\n",
       "      <th>Weekday</th>\n",
       "      <th></th>\n",
       "      <th></th>\n",
       "      <th></th>\n",
       "    </tr>\n",
       "  </thead>\n",
       "  <tbody>\n",
       "    <tr>\n",
       "      <th>Tuesday</th>\n",
       "      <td>0.554276</td>\n",
       "      <td>6513</td>\n",
       "      <td>0.351579</td>\n",
       "    </tr>\n",
       "    <tr>\n",
       "      <th>Wednesday</th>\n",
       "      <td>0.545237</td>\n",
       "      <td>6267</td>\n",
       "      <td>0.338300</td>\n",
       "    </tr>\n",
       "    <tr>\n",
       "      <th>Thursday</th>\n",
       "      <td>0.581319</td>\n",
       "      <td>4593</td>\n",
       "      <td>0.247935</td>\n",
       "    </tr>\n",
       "    <tr>\n",
       "      <th>Friday</th>\n",
       "      <td>0.539894</td>\n",
       "      <td>752</td>\n",
       "      <td>0.040594</td>\n",
       "    </tr>\n",
       "    <tr>\n",
       "      <th>Monday</th>\n",
       "      <td>0.462500</td>\n",
       "      <td>400</td>\n",
       "      <td>0.021592</td>\n",
       "    </tr>\n",
       "  </tbody>\n",
       "</table>\n",
       "</div>"
      ],
      "text/plain": [
       "           SuccessRates  Count  Distribution\n",
       "Weekday                                     \n",
       "Tuesday        0.554276   6513      0.351579\n",
       "Wednesday      0.545237   6267      0.338300\n",
       "Thursday       0.581319   4593      0.247935\n",
       "Friday         0.539894    752      0.040594\n",
       "Monday         0.462500    400      0.021592"
      ]
     },
     "execution_count": 67,
     "metadata": {
      "tags": []
     },
     "output_type": "execute_result"
    }
   ],
   "source": [
    "analyse_weekday(filter_weekday(bgh_criminal)).sort_values('Distribution', \n",
    "                                                          ascending=False)"
   ]
  },
  {
   "cell_type": "code",
   "execution_count": 0,
   "metadata": {
    "id": "WUUwEEZMPOz-",
    "colab_type": "code",
    "outputId": "c962b52a-79a1-4def-d22c-cb991d34ed4b",
    "colab": {
     "base_uri": "https://localhost:8080/",
     "height": 34.0
    }
   },
   "outputs": [
    {
     "name": "stdout",
     "output_type": "stream",
     "text": [
      "0.8812989293922012 of the decisions are handed down between Tue and Thu.\n"
     ]
    }
   ],
   "source": [
    "weekday_counts = analyse_weekday(filter_weekday(bgh_docket_number))['Distribution']\n",
    "print(\"{} of the decisions are handed down between Tue and Thu.\".format(\n",
    "    weekday_counts.Tuesday + \n",
    "    weekday_counts.Wednesday + \n",
    "    weekday_counts.Thursday\n",
    "))"
   ]
  },
  {
   "cell_type": "code",
   "execution_count": 0,
   "metadata": {
    "id": "LzE1qOBoP07S",
    "colab_type": "code",
    "outputId": "71cc3c0e-efcc-4a42-a23a-29fd4e158561",
    "colab": {
     "base_uri": "https://localhost:8080/",
     "height": 235.0
    }
   },
   "outputs": [
    {
     "data": {
      "text/html": [
       "<div>\n",
       "<style scoped>\n",
       "    .dataframe tbody tr th:only-of-type {\n",
       "        vertical-align: middle;\n",
       "    }\n",
       "\n",
       "    .dataframe tbody tr th {\n",
       "        vertical-align: top;\n",
       "    }\n",
       "\n",
       "    .dataframe thead th {\n",
       "        text-align: right;\n",
       "    }\n",
       "</style>\n",
       "<table border=\"1\" class=\"dataframe\">\n",
       "  <thead>\n",
       "    <tr style=\"text-align: right;\">\n",
       "      <th>Senat</th>\n",
       "      <th>1</th>\n",
       "      <th>2</th>\n",
       "      <th>3</th>\n",
       "      <th>4</th>\n",
       "      <th>5</th>\n",
       "      <th>I</th>\n",
       "      <th>II</th>\n",
       "      <th>III</th>\n",
       "      <th>IV</th>\n",
       "      <th>IX</th>\n",
       "      <th>V</th>\n",
       "      <th>VI</th>\n",
       "      <th>VII</th>\n",
       "      <th>VIII</th>\n",
       "      <th>X</th>\n",
       "      <th>XI</th>\n",
       "      <th>XII</th>\n",
       "    </tr>\n",
       "    <tr>\n",
       "      <th>Weekday</th>\n",
       "      <th></th>\n",
       "      <th></th>\n",
       "      <th></th>\n",
       "      <th></th>\n",
       "      <th></th>\n",
       "      <th></th>\n",
       "      <th></th>\n",
       "      <th></th>\n",
       "      <th></th>\n",
       "      <th></th>\n",
       "      <th></th>\n",
       "      <th></th>\n",
       "      <th></th>\n",
       "      <th></th>\n",
       "      <th></th>\n",
       "      <th></th>\n",
       "      <th></th>\n",
       "    </tr>\n",
       "  </thead>\n",
       "  <tbody>\n",
       "    <tr>\n",
       "      <th>Friday</th>\n",
       "      <td>71</td>\n",
       "      <td>581</td>\n",
       "      <td>96</td>\n",
       "      <td>13</td>\n",
       "      <td>35</td>\n",
       "      <td>11</td>\n",
       "      <td>21</td>\n",
       "      <td>13</td>\n",
       "      <td>15</td>\n",
       "      <td>91</td>\n",
       "      <td>1231</td>\n",
       "      <td>17</td>\n",
       "      <td>5</td>\n",
       "      <td>1</td>\n",
       "      <td>0</td>\n",
       "      <td>7</td>\n",
       "      <td>1</td>\n",
       "    </tr>\n",
       "    <tr>\n",
       "      <th>Monday</th>\n",
       "      <td>82</td>\n",
       "      <td>68</td>\n",
       "      <td>37</td>\n",
       "      <td>35</td>\n",
       "      <td>200</td>\n",
       "      <td>39</td>\n",
       "      <td>1282</td>\n",
       "      <td>7</td>\n",
       "      <td>88</td>\n",
       "      <td>209</td>\n",
       "      <td>59</td>\n",
       "      <td>109</td>\n",
       "      <td>24</td>\n",
       "      <td>33</td>\n",
       "      <td>68</td>\n",
       "      <td>57</td>\n",
       "      <td>22</td>\n",
       "    </tr>\n",
       "    <tr>\n",
       "      <th>Thursday</th>\n",
       "      <td>595</td>\n",
       "      <td>651</td>\n",
       "      <td>1408</td>\n",
       "      <td>1323</td>\n",
       "      <td>714</td>\n",
       "      <td>2444</td>\n",
       "      <td>51</td>\n",
       "      <td>2271</td>\n",
       "      <td>58</td>\n",
       "      <td>4929</td>\n",
       "      <td>1752</td>\n",
       "      <td>49</td>\n",
       "      <td>1425</td>\n",
       "      <td>10</td>\n",
       "      <td>106</td>\n",
       "      <td>23</td>\n",
       "      <td>66</td>\n",
       "    </tr>\n",
       "    <tr>\n",
       "      <th>Tuesday</th>\n",
       "      <td>1281</td>\n",
       "      <td>557</td>\n",
       "      <td>1794</td>\n",
       "      <td>1636</td>\n",
       "      <td>1349</td>\n",
       "      <td>71</td>\n",
       "      <td>713</td>\n",
       "      <td>45</td>\n",
       "      <td>126</td>\n",
       "      <td>447</td>\n",
       "      <td>91</td>\n",
       "      <td>2060</td>\n",
       "      <td>70</td>\n",
       "      <td>715</td>\n",
       "      <td>1449</td>\n",
       "      <td>1766</td>\n",
       "      <td>18</td>\n",
       "    </tr>\n",
       "    <tr>\n",
       "      <th>Wednesday</th>\n",
       "      <td>1104</td>\n",
       "      <td>2854</td>\n",
       "      <td>575</td>\n",
       "      <td>633</td>\n",
       "      <td>1329</td>\n",
       "      <td>437</td>\n",
       "      <td>76</td>\n",
       "      <td>245</td>\n",
       "      <td>2060</td>\n",
       "      <td>265</td>\n",
       "      <td>260</td>\n",
       "      <td>58</td>\n",
       "      <td>195</td>\n",
       "      <td>1663</td>\n",
       "      <td>133</td>\n",
       "      <td>41</td>\n",
       "      <td>2840</td>\n",
       "    </tr>\n",
       "  </tbody>\n",
       "</table>\n",
       "</div>"
      ],
      "text/plain": [
       "Senat         1     2     3     4     5     I    II   III    IV    IX     V  \\\n",
       "Weekday                                                                       \n",
       "Friday       71   581    96    13    35    11    21    13    15    91  1231   \n",
       "Monday       82    68    37    35   200    39  1282     7    88   209    59   \n",
       "Thursday    595   651  1408  1323   714  2444    51  2271    58  4929  1752   \n",
       "Tuesday    1281   557  1794  1636  1349    71   713    45   126   447    91   \n",
       "Wednesday  1104  2854   575   633  1329   437    76   245  2060   265   260   \n",
       "\n",
       "Senat        VI   VII  VIII     X    XI   XII  \n",
       "Weekday                                        \n",
       "Friday       17     5     1     0     7     1  \n",
       "Monday      109    24    33    68    57    22  \n",
       "Thursday     49  1425    10   106    23    66  \n",
       "Tuesday    2060    70   715  1449  1766    18  \n",
       "Wednesday    58   195  1663   133    41  2840  "
      ]
     },
     "execution_count": 69,
     "metadata": {
      "tags": []
     },
     "output_type": "execute_result"
    }
   ],
   "source": [
    "bgh_main_senats_weekdays = filter_weekday(\n",
    "    bgh_docket_number[bgh_docket_number.MainSenat])\n",
    "crosstable_weekdays_senats = pd.crosstab(bgh_main_senats_weekdays.Weekday,\n",
    "                                         bgh_main_senats_weekdays.Senat)\n",
    "crosstable_weekdays_senats"
   ]
  },
  {
   "cell_type": "code",
   "execution_count": 0,
   "metadata": {
    "id": "z8Ff_eosqJLb",
    "colab_type": "code",
    "colab": {}
   },
   "outputs": [],
   "source": [
    "crosstable_weekdays_senats_rel = pd.DataFrame()\n",
    "for column in crosstable_weekdays_senats.columns:\n",
    "  crosstable_weekdays_senats_rel[column] = crosstable_weekdays_senats[column]/\\\n",
    "      crosstable_weekdays_senats[column].sum()"
   ]
  },
  {
   "cell_type": "code",
   "execution_count": 0,
   "metadata": {
    "id": "_-FNhCF0sipM",
    "colab_type": "code",
    "outputId": "c23a1372-54f8-4555-a61f-c9ac61b9c203",
    "colab": {
     "base_uri": "https://localhost:8080/",
     "height": 297.0
    }
   },
   "outputs": [
    {
     "data": {
      "text/html": [
       "<div>\n",
       "<style scoped>\n",
       "    .dataframe tbody tr th:only-of-type {\n",
       "        vertical-align: middle;\n",
       "    }\n",
       "\n",
       "    .dataframe tbody tr th {\n",
       "        vertical-align: top;\n",
       "    }\n",
       "\n",
       "    .dataframe thead th {\n",
       "        text-align: right;\n",
       "    }\n",
       "</style>\n",
       "<table border=\"1\" class=\"dataframe\">\n",
       "  <thead>\n",
       "    <tr style=\"text-align: right;\">\n",
       "      <th>Weekday</th>\n",
       "      <th>Friday</th>\n",
       "      <th>Monday</th>\n",
       "      <th>Thursday</th>\n",
       "      <th>Tuesday</th>\n",
       "      <th>Wednesday</th>\n",
       "    </tr>\n",
       "  </thead>\n",
       "  <tbody>\n",
       "    <tr>\n",
       "      <th>count</th>\n",
       "      <td>17.000000</td>\n",
       "      <td>17.000000</td>\n",
       "      <td>17.000000</td>\n",
       "      <td>17.000000</td>\n",
       "      <td>17.000000</td>\n",
       "    </tr>\n",
       "    <tr>\n",
       "      <th>mean</th>\n",
       "      <td>0.035385</td>\n",
       "      <td>0.057072</td>\n",
       "      <td>0.310967</td>\n",
       "      <td>0.313816</td>\n",
       "      <td>0.282760</td>\n",
       "    </tr>\n",
       "    <tr>\n",
       "      <th>std</th>\n",
       "      <td>0.089184</td>\n",
       "      <td>0.140277</td>\n",
       "      <td>0.335120</td>\n",
       "      <td>0.318681</td>\n",
       "      <td>0.311015</td>\n",
       "    </tr>\n",
       "    <tr>\n",
       "      <th>min</th>\n",
       "      <td>0.000000</td>\n",
       "      <td>0.002712</td>\n",
       "      <td>0.004129</td>\n",
       "      <td>0.006108</td>\n",
       "      <td>0.021647</td>\n",
       "    </tr>\n",
       "    <tr>\n",
       "      <th>25%</th>\n",
       "      <td>0.003571</td>\n",
       "      <td>0.012991</td>\n",
       "      <td>0.023798</td>\n",
       "      <td>0.040721</td>\n",
       "      <td>0.075740</td>\n",
       "    </tr>\n",
       "    <tr>\n",
       "      <th>50%</th>\n",
       "      <td>0.006391</td>\n",
       "      <td>0.017389</td>\n",
       "      <td>0.189914</td>\n",
       "      <td>0.295211</td>\n",
       "      <td>0.145570</td>\n",
       "    </tr>\n",
       "    <tr>\n",
       "      <th>75%</th>\n",
       "      <td>0.015317</td>\n",
       "      <td>0.037495</td>\n",
       "      <td>0.516357</td>\n",
       "      <td>0.449451</td>\n",
       "      <td>0.366419</td>\n",
       "    </tr>\n",
       "    <tr>\n",
       "      <th>max</th>\n",
       "      <td>0.362806</td>\n",
       "      <td>0.598227</td>\n",
       "      <td>0.879892</td>\n",
       "      <td>0.932418</td>\n",
       "      <td>0.963692</td>\n",
       "    </tr>\n",
       "  </tbody>\n",
       "</table>\n",
       "</div>"
      ],
      "text/plain": [
       "Weekday     Friday     Monday   Thursday    Tuesday  Wednesday\n",
       "count    17.000000  17.000000  17.000000  17.000000  17.000000\n",
       "mean      0.035385   0.057072   0.310967   0.313816   0.282760\n",
       "std       0.089184   0.140277   0.335120   0.318681   0.311015\n",
       "min       0.000000   0.002712   0.004129   0.006108   0.021647\n",
       "25%       0.003571   0.012991   0.023798   0.040721   0.075740\n",
       "50%       0.006391   0.017389   0.189914   0.295211   0.145570\n",
       "75%       0.015317   0.037495   0.516357   0.449451   0.366419\n",
       "max       0.362806   0.598227   0.879892   0.932418   0.963692"
      ]
     },
     "execution_count": 71,
     "metadata": {
      "tags": []
     },
     "output_type": "execute_result"
    }
   ],
   "source": [
    "crosstable_weekdays_senats_rel.T.describe()"
   ]
  },
  {
   "cell_type": "code",
   "execution_count": 0,
   "metadata": {
    "id": "fKCbzgKfSsG6",
    "colab_type": "code",
    "outputId": "774b8ba6-7327-4412-b672-22780bcc7024",
    "colab": {
     "base_uri": "https://localhost:8080/",
     "height": 438.0
    }
   },
   "outputs": [
    {
     "data": {
      "text/plain": [
       "<matplotlib.axes._subplots.AxesSubplot at 0x7fe2ba0a6908>"
      ]
     },
     "execution_count": 72,
     "metadata": {
      "tags": []
     },
     "output_type": "execute_result"
    },
    {
     "data": {
      "text/plain": [
       "<matplotlib.figure.Figure at 0x7fe2ba04acc0>"
      ]
     },
     "metadata": {
      "tags": []
     },
     "output_type": "display_data"
    },
    {
     "data": {
      "image/png": "[encoded data removed]",
      "text/plain": [
       "<matplotlib.figure.Figure at 0x7fe2ba0b7080>"
      ]
     },
     "metadata": {
      "tags": []
     },
     "output_type": "display_data"
    }
   ],
   "source": [
    "plt.figure();\n",
    "crosstable_weekdays_senats.plot.bar(stacked=True)"
   ]
  },
  {
   "cell_type": "code",
   "execution_count": 0,
   "metadata": {
    "id": "XnzCJxtWTbjy",
    "colab_type": "code",
    "outputId": "0783d781-47c2-41e3-886f-9c70fdd93f32",
    "colab": {
     "base_uri": "https://localhost:8080/",
     "height": 235.0
    }
   },
   "outputs": [
    {
     "data": {
      "text/html": [
       "<div>\n",
       "<style scoped>\n",
       "    .dataframe tbody tr th:only-of-type {\n",
       "        vertical-align: middle;\n",
       "    }\n",
       "\n",
       "    .dataframe tbody tr th {\n",
       "        vertical-align: top;\n",
       "    }\n",
       "\n",
       "    .dataframe thead th {\n",
       "        text-align: right;\n",
       "    }\n",
       "</style>\n",
       "<table border=\"1\" class=\"dataframe\">\n",
       "  <thead>\n",
       "    <tr style=\"text-align: right;\">\n",
       "      <th></th>\n",
       "      <th>SuccessRates</th>\n",
       "      <th>Count</th>\n",
       "      <th>Distribution</th>\n",
       "    </tr>\n",
       "    <tr>\n",
       "      <th>Weekday</th>\n",
       "      <th></th>\n",
       "      <th></th>\n",
       "      <th></th>\n",
       "    </tr>\n",
       "  </thead>\n",
       "  <tbody>\n",
       "    <tr>\n",
       "      <th>Monday</th>\n",
       "      <td>0.292027</td>\n",
       "      <td>3349</td>\n",
       "      <td>0.095697</td>\n",
       "    </tr>\n",
       "    <tr>\n",
       "      <th>Thursday</th>\n",
       "      <td>0.388906</td>\n",
       "      <td>13340</td>\n",
       "      <td>0.381186</td>\n",
       "    </tr>\n",
       "    <tr>\n",
       "      <th>Tuesday</th>\n",
       "      <td>0.433333</td>\n",
       "      <td>8070</td>\n",
       "      <td>0.230598</td>\n",
       "    </tr>\n",
       "    <tr>\n",
       "      <th>Wednesday</th>\n",
       "      <td>0.443649</td>\n",
       "      <td>8385</td>\n",
       "      <td>0.239599</td>\n",
       "    </tr>\n",
       "    <tr>\n",
       "      <th>Friday</th>\n",
       "      <td>0.522678</td>\n",
       "      <td>1852</td>\n",
       "      <td>0.052920</td>\n",
       "    </tr>\n",
       "  </tbody>\n",
       "</table>\n",
       "</div>"
      ],
      "text/plain": [
       "           SuccessRates  Count  Distribution\n",
       "Weekday                                     \n",
       "Monday         0.292027   3349      0.095697\n",
       "Thursday       0.388906  13340      0.381186\n",
       "Tuesday        0.433333   8070      0.230598\n",
       "Wednesday      0.443649   8385      0.239599\n",
       "Friday         0.522678   1852      0.052920"
      ]
     },
     "execution_count": 73,
     "metadata": {
      "tags": []
     },
     "output_type": "execute_result"
    }
   ],
   "source": [
    "# Repetition but new sorting\n",
    "analyse_weekday(filter_weekday(bgh_civil)).sort_values('SuccessRates')"
   ]
  },
  {
   "cell_type": "code",
   "execution_count": 0,
   "metadata": {
    "id": "RU7ZBGRtTq4O",
    "colab_type": "code",
    "outputId": "bf4dbdb6-a07b-4c26-86aa-c7d4b3340d75",
    "colab": {
     "base_uri": "https://localhost:8080/",
     "height": 235.0
    }
   },
   "outputs": [
    {
     "data": {
      "text/html": [
       "<div>\n",
       "<style scoped>\n",
       "    .dataframe tbody tr th:only-of-type {\n",
       "        vertical-align: middle;\n",
       "    }\n",
       "\n",
       "    .dataframe tbody tr th {\n",
       "        vertical-align: top;\n",
       "    }\n",
       "\n",
       "    .dataframe thead th {\n",
       "        text-align: right;\n",
       "    }\n",
       "</style>\n",
       "<table border=\"1\" class=\"dataframe\">\n",
       "  <thead>\n",
       "    <tr style=\"text-align: right;\">\n",
       "      <th></th>\n",
       "      <th>SuccessRates</th>\n",
       "      <th>Count</th>\n",
       "      <th>Distribution</th>\n",
       "    </tr>\n",
       "    <tr>\n",
       "      <th>Weekday</th>\n",
       "      <th></th>\n",
       "      <th></th>\n",
       "      <th></th>\n",
       "    </tr>\n",
       "  </thead>\n",
       "  <tbody>\n",
       "    <tr>\n",
       "      <th>Monday</th>\n",
       "      <td>0.462500</td>\n",
       "      <td>400</td>\n",
       "      <td>0.021592</td>\n",
       "    </tr>\n",
       "    <tr>\n",
       "      <th>Friday</th>\n",
       "      <td>0.539894</td>\n",
       "      <td>752</td>\n",
       "      <td>0.040594</td>\n",
       "    </tr>\n",
       "    <tr>\n",
       "      <th>Wednesday</th>\n",
       "      <td>0.545237</td>\n",
       "      <td>6267</td>\n",
       "      <td>0.338300</td>\n",
       "    </tr>\n",
       "    <tr>\n",
       "      <th>Tuesday</th>\n",
       "      <td>0.554276</td>\n",
       "      <td>6513</td>\n",
       "      <td>0.351579</td>\n",
       "    </tr>\n",
       "    <tr>\n",
       "      <th>Thursday</th>\n",
       "      <td>0.581319</td>\n",
       "      <td>4593</td>\n",
       "      <td>0.247935</td>\n",
       "    </tr>\n",
       "  </tbody>\n",
       "</table>\n",
       "</div>"
      ],
      "text/plain": [
       "           SuccessRates  Count  Distribution\n",
       "Weekday                                     \n",
       "Monday         0.462500    400      0.021592\n",
       "Friday         0.539894    752      0.040594\n",
       "Wednesday      0.545237   6267      0.338300\n",
       "Tuesday        0.554276   6513      0.351579\n",
       "Thursday       0.581319   4593      0.247935"
      ]
     },
     "execution_count": 74,
     "metadata": {
      "tags": []
     },
     "output_type": "execute_result"
    }
   ],
   "source": [
    "# Repetition but new sorting\n",
    "analyse_weekday(filter_weekday(bgh_criminal)).sort_values('SuccessRates')"
   ]
  },
  {
   "cell_type": "code",
   "execution_count": 0,
   "metadata": {
    "id": "CkiXM5OpT0Er",
    "colab_type": "code",
    "outputId": "5e5b23e5-8ac9-419b-bda3-1e40577f78f4",
    "colab": {
     "base_uri": "https://localhost:8080/",
     "height": 34.0
    }
   },
   "outputs": [
    {
     "data": {
      "text/plain": [
       "0.0005050413953572266"
      ]
     },
     "execution_count": 75,
     "metadata": {
      "tags": []
     },
     "output_type": "execute_result"
    }
   ],
   "source": [
    "# Ratio: decisions on weekends\n",
    "(len(bgh_docket_number[bgh_docket_number.Weekday=='Saturday'])+len(bgh_docket_number[bgh_docket_number.Weekday=='Sunday']))/len(filter_weekday(bgh_docket_number))"
   ]
  },
  {
   "cell_type": "code",
   "execution_count": 0,
   "metadata": {
    "id": "WXDmuFf3UXSm",
    "colab_type": "code",
    "outputId": "8b2b1c61-1802-41ba-dcb5-b90bb8b5c542",
    "colab": {
     "base_uri": "https://localhost:8080/",
     "height": 607.0
    }
   },
   "outputs": [
    {
     "data": {
      "text/html": [
       "<div>\n",
       "<style scoped>\n",
       "    .dataframe tbody tr th:only-of-type {\n",
       "        vertical-align: middle;\n",
       "    }\n",
       "\n",
       "    .dataframe tbody tr th {\n",
       "        vertical-align: top;\n",
       "    }\n",
       "\n",
       "    .dataframe thead th {\n",
       "        text-align: right;\n",
       "    }\n",
       "</style>\n",
       "<table border=\"1\" class=\"dataframe\">\n",
       "  <thead>\n",
       "    <tr style=\"text-align: right;\">\n",
       "      <th>RevisionOutcome</th>\n",
       "      <th>-99</th>\n",
       "      <th>-1</th>\n",
       "      <th>1</th>\n",
       "      <th>SuccessRate</th>\n",
       "      <th>Total</th>\n",
       "      <th>Criminal</th>\n",
       "    </tr>\n",
       "    <tr>\n",
       "      <th>Senat</th>\n",
       "      <th></th>\n",
       "      <th></th>\n",
       "      <th></th>\n",
       "      <th></th>\n",
       "      <th></th>\n",
       "      <th></th>\n",
       "    </tr>\n",
       "  </thead>\n",
       "  <tbody>\n",
       "    <tr>\n",
       "      <th>IX</th>\n",
       "      <td>217</td>\n",
       "      <td>4197</td>\n",
       "      <td>1555</td>\n",
       "      <td>0.270341</td>\n",
       "      <td>5969</td>\n",
       "      <td>False</td>\n",
       "    </tr>\n",
       "    <tr>\n",
       "      <th>IV</th>\n",
       "      <td>67</td>\n",
       "      <td>1507</td>\n",
       "      <td>788</td>\n",
       "      <td>0.343355</td>\n",
       "      <td>2362</td>\n",
       "      <td>False</td>\n",
       "    </tr>\n",
       "    <tr>\n",
       "      <th>III</th>\n",
       "      <td>83</td>\n",
       "      <td>1618</td>\n",
       "      <td>897</td>\n",
       "      <td>0.356660</td>\n",
       "      <td>2598</td>\n",
       "      <td>False</td>\n",
       "    </tr>\n",
       "    <tr>\n",
       "      <th>1</th>\n",
       "      <td>80</td>\n",
       "      <td>1773</td>\n",
       "      <td>1317</td>\n",
       "      <td>0.426214</td>\n",
       "      <td>3170</td>\n",
       "      <td>True</td>\n",
       "    </tr>\n",
       "    <tr>\n",
       "      <th>XI</th>\n",
       "      <td>49</td>\n",
       "      <td>1060</td>\n",
       "      <td>791</td>\n",
       "      <td>0.427337</td>\n",
       "      <td>1900</td>\n",
       "      <td>False</td>\n",
       "    </tr>\n",
       "    <tr>\n",
       "      <th>X</th>\n",
       "      <td>142</td>\n",
       "      <td>904</td>\n",
       "      <td>741</td>\n",
       "      <td>0.450456</td>\n",
       "      <td>1787</td>\n",
       "      <td>False</td>\n",
       "    </tr>\n",
       "    <tr>\n",
       "      <th>VI</th>\n",
       "      <td>76</td>\n",
       "      <td>1165</td>\n",
       "      <td>1064</td>\n",
       "      <td>0.477344</td>\n",
       "      <td>2305</td>\n",
       "      <td>False</td>\n",
       "    </tr>\n",
       "    <tr>\n",
       "      <th>I</th>\n",
       "      <td>133</td>\n",
       "      <td>1508</td>\n",
       "      <td>1388</td>\n",
       "      <td>0.479282</td>\n",
       "      <td>3029</td>\n",
       "      <td>False</td>\n",
       "    </tr>\n",
       "    <tr>\n",
       "      <th>5</th>\n",
       "      <td>133</td>\n",
       "      <td>1859</td>\n",
       "      <td>1713</td>\n",
       "      <td>0.479563</td>\n",
       "      <td>3705</td>\n",
       "      <td>True</td>\n",
       "    </tr>\n",
       "    <tr>\n",
       "      <th>II</th>\n",
       "      <td>107</td>\n",
       "      <td>1049</td>\n",
       "      <td>1013</td>\n",
       "      <td>0.491271</td>\n",
       "      <td>2169</td>\n",
       "      <td>False</td>\n",
       "    </tr>\n",
       "    <tr>\n",
       "      <th>XII</th>\n",
       "      <td>104</td>\n",
       "      <td>1425</td>\n",
       "      <td>1436</td>\n",
       "      <td>0.501922</td>\n",
       "      <td>2965</td>\n",
       "      <td>False</td>\n",
       "    </tr>\n",
       "    <tr>\n",
       "      <th>VIII</th>\n",
       "      <td>51</td>\n",
       "      <td>1151</td>\n",
       "      <td>1231</td>\n",
       "      <td>0.516793</td>\n",
       "      <td>2433</td>\n",
       "      <td>False</td>\n",
       "    </tr>\n",
       "    <tr>\n",
       "      <th>V</th>\n",
       "      <td>178</td>\n",
       "      <td>1563</td>\n",
       "      <td>1676</td>\n",
       "      <td>0.517444</td>\n",
       "      <td>3417</td>\n",
       "      <td>False</td>\n",
       "    </tr>\n",
       "    <tr>\n",
       "      <th>VII</th>\n",
       "      <td>47</td>\n",
       "      <td>712</td>\n",
       "      <td>964</td>\n",
       "      <td>0.575179</td>\n",
       "      <td>1723</td>\n",
       "      <td>False</td>\n",
       "    </tr>\n",
       "    <tr>\n",
       "      <th>2</th>\n",
       "      <td>380</td>\n",
       "      <td>1811</td>\n",
       "      <td>2579</td>\n",
       "      <td>0.587472</td>\n",
       "      <td>4770</td>\n",
       "      <td>True</td>\n",
       "    </tr>\n",
       "    <tr>\n",
       "      <th>3</th>\n",
       "      <td>76</td>\n",
       "      <td>1513</td>\n",
       "      <td>2351</td>\n",
       "      <td>0.608437</td>\n",
       "      <td>3940</td>\n",
       "      <td>True</td>\n",
       "    </tr>\n",
       "    <tr>\n",
       "      <th>4</th>\n",
       "      <td>64</td>\n",
       "      <td>1282</td>\n",
       "      <td>2334</td>\n",
       "      <td>0.645465</td>\n",
       "      <td>3680</td>\n",
       "      <td>True</td>\n",
       "    </tr>\n",
       "  </tbody>\n",
       "</table>\n",
       "</div>"
      ],
      "text/plain": [
       "RevisionOutcome  -99    -1     1  SuccessRate  Total  Criminal\n",
       "Senat                                                         \n",
       "IX               217  4197  1555     0.270341   5969     False\n",
       "IV                67  1507   788     0.343355   2362     False\n",
       "III               83  1618   897     0.356660   2598     False\n",
       "1                 80  1773  1317     0.426214   3170      True\n",
       "XI                49  1060   791     0.427337   1900     False\n",
       "X                142   904   741     0.450456   1787     False\n",
       "VI                76  1165  1064     0.477344   2305     False\n",
       "I                133  1508  1388     0.479282   3029     False\n",
       "5                133  1859  1713     0.479563   3705      True\n",
       "II               107  1049  1013     0.491271   2169     False\n",
       "XII              104  1425  1436     0.501922   2965     False\n",
       "VIII              51  1151  1231     0.516793   2433     False\n",
       "V                178  1563  1676     0.517444   3417     False\n",
       "VII               47   712   964     0.575179   1723     False\n",
       "2                380  1811  2579     0.587472   4770      True\n",
       "3                 76  1513  2351     0.608437   3940      True\n",
       "4                 64  1282  2334     0.645465   3680      True"
      ]
     },
     "execution_count": 76,
     "metadata": {
      "tags": []
     },
     "output_type": "execute_result"
    }
   ],
   "source": [
    "senats_success_rates = pd.crosstab(bgh_main_senats.Senat, \n",
    "                                   bgh_main_senats.RevisionOutcome)\n",
    "senats_success_rates['SuccessRate'] = senats_success_rates[1] / \\\n",
    "      (senats_success_rates[1]+senats_success_rates[-1])\n",
    "senats_success_rates['Total'] = senats_success_rates[-99] + \\\n",
    "                                senats_success_rates[-1] + \\\n",
    "                                senats_success_rates[1]\n",
    "senats_success_rates['Criminal'] = senats_success_rates.index.str.contains('^\\d$', regex=True)\n",
    "senats_success_rates.sort_values('SuccessRate')"
   ]
  },
  {
   "cell_type": "code",
   "execution_count": 0,
   "metadata": {
    "id": "7lPIb8DvWjmV",
    "colab_type": "code",
    "outputId": "a5b9b50b-7799-48af-e477-5764063365e1",
    "colab": {
     "base_uri": "https://localhost:8080/",
     "height": 378.0
    }
   },
   "outputs": [
    {
     "data": {
      "text/plain": [
       "<matplotlib.figure.Figure at 0x7fe2bacb5b00>"
      ]
     },
     "metadata": {
      "tags": []
     },
     "output_type": "display_data"
    },
    {
     "data": {
      "image/png": "[encoded data removed]",
      "text/plain": [
       "<matplotlib.figure.Figure at 0x7fe2ba3e7710>"
      ]
     },
     "metadata": {
      "tags": []
     },
     "output_type": "display_data"
    }
   ],
   "source": [
    "plt.figure();\n",
    "from matplotlib.patches import Patch\n",
    "custom_lines = [Patch(alpha=0.3, color='k', hatch = '\\\\\\\\\\\\'),\n",
    "                Patch(alpha=0.3, color='k', hatch = '///')]\n",
    "fig, ax = plt.subplots()\n",
    "l = ax.legend(custom_lines, ['Civil', 'Criminal'])\n",
    "l.set_title(\"\")\n",
    "bgh_civil.Duration.plot.hist(bins=50, range=(0,2000), alpha=0.3, color='k', hatch = '\\\\\\\\\\\\')\n",
    "bgh_criminal.Duration.plot.hist(bins=50, range=(0,2000), alpha=0.3, color='k', hatch = '///')\n",
    "\n",
    "plt.xlabel('Duration in Days')\n",
    "\n",
    "plt.savefig('Results/HistogramDurationFrequency.png', bbox_inches='tight', format='png', dpi=600)\n"
   ]
  },
  {
   "cell_type": "code",
   "execution_count": 0,
   "metadata": {
    "id": "p79NzOQjZcgF",
    "colab_type": "code",
    "outputId": "65d73172-6366-4569-a41b-33ba27b88d12",
    "colab": {
     "base_uri": "https://localhost:8080/",
     "height": 170.0
    }
   },
   "outputs": [
    {
     "data": {
      "text/plain": [
       "count    27972.000000\n",
       "mean       489.188295\n",
       "std        359.078379\n",
       "min          1.000000\n",
       "25%        259.000000\n",
       "50%        400.000000\n",
       "75%        636.000000\n",
       "max      11367.000000\n",
       "Name: Duration, dtype: float64"
      ]
     },
     "execution_count": 78,
     "metadata": {
      "tags": []
     },
     "output_type": "execute_result"
    }
   ],
   "source": [
    "bgh_civil.Duration.describe()"
   ]
  },
  {
   "cell_type": "code",
   "execution_count": 0,
   "metadata": {
    "id": "hl9OkIQhaktF",
    "colab_type": "code",
    "outputId": "607fb464-a186-48b0-a707-fd35898f2ab9",
    "colab": {
     "base_uri": "https://localhost:8080/",
     "height": 170.0
    }
   },
   "outputs": [
    {
     "data": {
      "text/plain": [
       "count    15680.000000\n",
       "mean       247.138520\n",
       "std        193.786527\n",
       "min         14.000000\n",
       "25%        163.000000\n",
       "50%        211.000000\n",
       "75%        281.000000\n",
       "max       9687.000000\n",
       "Name: Duration, dtype: float64"
      ]
     },
     "execution_count": 79,
     "metadata": {
      "tags": []
     },
     "output_type": "execute_result"
    }
   ],
   "source": [
    "bgh_criminal.Duration.describe()"
   ]
  },
  {
   "cell_type": "markdown",
   "metadata": {
    "id": "ovA1Pu6raupt",
    "colab_type": "text"
   },
   "source": [
    "### Previous Instance (Section 4.3.3)"
   ]
  },
  {
   "cell_type": "code",
   "execution_count": 0,
   "metadata": {
    "id": "Fxrf9AMZamGC",
    "colab_type": "code",
    "outputId": "26b23108-cafc-4e9d-9513-513a330e65ee",
    "colab": {
     "base_uri": "https://localhost:8080/",
     "height": 824.0
    }
   },
   "outputs": [
    {
     "data": {
      "text/html": [
       "<div>\n",
       "<style scoped>\n",
       "    .dataframe tbody tr th:only-of-type {\n",
       "        vertical-align: middle;\n",
       "    }\n",
       "\n",
       "    .dataframe tbody tr th {\n",
       "        vertical-align: top;\n",
       "    }\n",
       "\n",
       "    .dataframe thead th {\n",
       "        text-align: right;\n",
       "    }\n",
       "</style>\n",
       "<table border=\"1\" class=\"dataframe\">\n",
       "  <thead>\n",
       "    <tr style=\"text-align: right;\">\n",
       "      <th>RevisionOutcome</th>\n",
       "      <th>-99</th>\n",
       "      <th>-1</th>\n",
       "      <th>1</th>\n",
       "      <th>SuccessRate</th>\n",
       "    </tr>\n",
       "    <tr>\n",
       "      <th>DecisionOLG</th>\n",
       "      <th></th>\n",
       "      <th></th>\n",
       "      <th></th>\n",
       "      <th></th>\n",
       "    </tr>\n",
       "  </thead>\n",
       "  <tbody>\n",
       "    <tr>\n",
       "      <th>OLG Karlsruhe</th>\n",
       "      <td>43</td>\n",
       "      <td>960</td>\n",
       "      <td>567</td>\n",
       "      <td>0.371316</td>\n",
       "    </tr>\n",
       "    <tr>\n",
       "      <th>OLG Nürnberg</th>\n",
       "      <td>15</td>\n",
       "      <td>331</td>\n",
       "      <td>198</td>\n",
       "      <td>0.374291</td>\n",
       "    </tr>\n",
       "    <tr>\n",
       "      <th>OLG Hamm</th>\n",
       "      <td>44</td>\n",
       "      <td>885</td>\n",
       "      <td>542</td>\n",
       "      <td>0.379818</td>\n",
       "    </tr>\n",
       "    <tr>\n",
       "      <th>OLG Stuttgart</th>\n",
       "      <td>34</td>\n",
       "      <td>666</td>\n",
       "      <td>416</td>\n",
       "      <td>0.384473</td>\n",
       "    </tr>\n",
       "    <tr>\n",
       "      <th>OLG Saarbrücken</th>\n",
       "      <td>3</td>\n",
       "      <td>90</td>\n",
       "      <td>57</td>\n",
       "      <td>0.387755</td>\n",
       "    </tr>\n",
       "    <tr>\n",
       "      <th>OLG Bamberg</th>\n",
       "      <td>5</td>\n",
       "      <td>205</td>\n",
       "      <td>133</td>\n",
       "      <td>0.393491</td>\n",
       "    </tr>\n",
       "    <tr>\n",
       "      <th>OLG Köln</th>\n",
       "      <td>37</td>\n",
       "      <td>919</td>\n",
       "      <td>619</td>\n",
       "      <td>0.402471</td>\n",
       "    </tr>\n",
       "    <tr>\n",
       "      <th>OLG Celle</th>\n",
       "      <td>33</td>\n",
       "      <td>681</td>\n",
       "      <td>485</td>\n",
       "      <td>0.415952</td>\n",
       "    </tr>\n",
       "    <tr>\n",
       "      <th>OLG Hamburg</th>\n",
       "      <td>19</td>\n",
       "      <td>623</td>\n",
       "      <td>446</td>\n",
       "      <td>0.417212</td>\n",
       "    </tr>\n",
       "    <tr>\n",
       "      <th>OLG Frankfurt</th>\n",
       "      <td>65</td>\n",
       "      <td>1328</td>\n",
       "      <td>968</td>\n",
       "      <td>0.421603</td>\n",
       "    </tr>\n",
       "    <tr>\n",
       "      <th>OLG Düsseldorf</th>\n",
       "      <td>60</td>\n",
       "      <td>1184</td>\n",
       "      <td>878</td>\n",
       "      <td>0.425800</td>\n",
       "    </tr>\n",
       "    <tr>\n",
       "      <th>OLG Bremen</th>\n",
       "      <td>6</td>\n",
       "      <td>86</td>\n",
       "      <td>66</td>\n",
       "      <td>0.434211</td>\n",
       "    </tr>\n",
       "    <tr>\n",
       "      <th>OLG Dresden</th>\n",
       "      <td>37</td>\n",
       "      <td>507</td>\n",
       "      <td>407</td>\n",
       "      <td>0.445295</td>\n",
       "    </tr>\n",
       "    <tr>\n",
       "      <th>OLG München</th>\n",
       "      <td>88</td>\n",
       "      <td>1414</td>\n",
       "      <td>1145</td>\n",
       "      <td>0.447440</td>\n",
       "    </tr>\n",
       "    <tr>\n",
       "      <th>OLG Naumburg</th>\n",
       "      <td>15</td>\n",
       "      <td>363</td>\n",
       "      <td>296</td>\n",
       "      <td>0.449165</td>\n",
       "    </tr>\n",
       "    <tr>\n",
       "      <th>OLG Zweibrücken</th>\n",
       "      <td>4</td>\n",
       "      <td>122</td>\n",
       "      <td>101</td>\n",
       "      <td>0.452915</td>\n",
       "    </tr>\n",
       "    <tr>\n",
       "      <th>OLG Koblenz</th>\n",
       "      <td>24</td>\n",
       "      <td>405</td>\n",
       "      <td>360</td>\n",
       "      <td>0.470588</td>\n",
       "    </tr>\n",
       "    <tr>\n",
       "      <th>OLG Brandenburg</th>\n",
       "      <td>25</td>\n",
       "      <td>315</td>\n",
       "      <td>282</td>\n",
       "      <td>0.472362</td>\n",
       "    </tr>\n",
       "    <tr>\n",
       "      <th>OLG Jena</th>\n",
       "      <td>17</td>\n",
       "      <td>205</td>\n",
       "      <td>185</td>\n",
       "      <td>0.474359</td>\n",
       "    </tr>\n",
       "    <tr>\n",
       "      <th>Kammergericht</th>\n",
       "      <td>16</td>\n",
       "      <td>860</td>\n",
       "      <td>780</td>\n",
       "      <td>0.475610</td>\n",
       "    </tr>\n",
       "    <tr>\n",
       "      <th>OLG Schleswig</th>\n",
       "      <td>20</td>\n",
       "      <td>311</td>\n",
       "      <td>283</td>\n",
       "      <td>0.476431</td>\n",
       "    </tr>\n",
       "    <tr>\n",
       "      <th>OLG Rostock</th>\n",
       "      <td>9</td>\n",
       "      <td>184</td>\n",
       "      <td>168</td>\n",
       "      <td>0.477273</td>\n",
       "    </tr>\n",
       "    <tr>\n",
       "      <th>OLG Oldenburg</th>\n",
       "      <td>13</td>\n",
       "      <td>272</td>\n",
       "      <td>255</td>\n",
       "      <td>0.483871</td>\n",
       "    </tr>\n",
       "    <tr>\n",
       "      <th>OLG Braunschweig</th>\n",
       "      <td>10</td>\n",
       "      <td>153</td>\n",
       "      <td>157</td>\n",
       "      <td>0.506452</td>\n",
       "    </tr>\n",
       "  </tbody>\n",
       "</table>\n",
       "</div>"
      ],
      "text/plain": [
       "RevisionOutcome   -99    -1     1  SuccessRate\n",
       "DecisionOLG                                   \n",
       "OLG Karlsruhe      43   960   567     0.371316\n",
       "OLG Nürnberg       15   331   198     0.374291\n",
       "OLG Hamm           44   885   542     0.379818\n",
       "OLG Stuttgart      34   666   416     0.384473\n",
       "OLG Saarbrücken     3    90    57     0.387755\n",
       "OLG Bamberg         5   205   133     0.393491\n",
       "OLG Köln           37   919   619     0.402471\n",
       "OLG Celle          33   681   485     0.415952\n",
       "OLG Hamburg        19   623   446     0.417212\n",
       "OLG Frankfurt      65  1328   968     0.421603\n",
       "OLG Düsseldorf     60  1184   878     0.425800\n",
       "OLG Bremen          6    86    66     0.434211\n",
       "OLG Dresden        37   507   407     0.445295\n",
       "OLG München        88  1414  1145     0.447440\n",
       "OLG Naumburg       15   363   296     0.449165\n",
       "OLG Zweibrücken     4   122   101     0.452915\n",
       "OLG Koblenz        24   405   360     0.470588\n",
       "OLG Brandenburg    25   315   282     0.472362\n",
       "OLG Jena           17   205   185     0.474359\n",
       "Kammergericht      16   860   780     0.475610\n",
       "OLG Schleswig      20   311   283     0.476431\n",
       "OLG Rostock         9   184   168     0.477273\n",
       "OLG Oldenburg      13   272   255     0.483871\n",
       "OLG Braunschweig   10   153   157     0.506452"
      ]
     },
     "execution_count": 80,
     "metadata": {
      "tags": []
     },
     "output_type": "execute_result"
    }
   ],
   "source": [
    "olg_civil_success_rates = pd.crosstab(bgh_civil.DecisionOLG, \n",
    "                                      bgh_civil.RevisionOutcome)\n",
    "olg_civil_success_rates['SuccessRate'] = olg_civil_success_rates[1] / \\\n",
    "      (olg_civil_success_rates[1]+olg_civil_success_rates[-1])\n",
    "olg_civil_success_rates = olg_civil_success_rates[olg_civil_success_rates.index != \"\"]\n",
    "olg_civil_success_rates.sort_values('SuccessRate')"
   ]
  },
  {
   "cell_type": "code",
   "execution_count": 0,
   "metadata": {
    "id": "A-PtMNoDeA4I",
    "colab_type": "code",
    "outputId": "a30d9271-0c2b-4475-a861-fd1fadb95c0b",
    "colab": {
     "base_uri": "https://localhost:8080/",
     "height": 170.0
    }
   },
   "outputs": [
    {
     "data": {
      "text/plain": [
       "count    24.000000\n",
       "mean      0.435006\n",
       "std       0.040074\n",
       "min       0.371316\n",
       "25%       0.400226\n",
       "50%       0.439753\n",
       "75%       0.472861\n",
       "max       0.506452\n",
       "Name: SuccessRate, dtype: float64"
      ]
     },
     "execution_count": 81,
     "metadata": {
      "tags": []
     },
     "output_type": "execute_result"
    }
   ],
   "source": [
    "olg_civil_success_rates.SuccessRate.describe()"
   ]
  },
  {
   "cell_type": "code",
   "execution_count": 0,
   "metadata": {
    "id": "nDEfAQzZHTUC",
    "colab_type": "code",
    "outputId": "cc414e6f-e1b3-4b95-f9a4-cd6f9bacfb3a",
    "colab": {
     "base_uri": "https://localhost:8080/",
     "height": 34.0
    }
   },
   "outputs": [
    {
     "name": "stdout",
     "output_type": "stream",
     "text": [
      "385 (0.020774875890351825) cases have an OLG as previous instance\n"
     ]
    }
   ],
   "source": [
    "olg_criminal_success_rates = pd.crosstab(bgh_criminal.DecisionOLG, \n",
    "                                      bgh_criminal.RevisionOutcome)\n",
    "olg_criminal_success_rates['SuccessRate'] = \\\n",
    "      olg_criminal_success_rates[1] / \\\n",
    "      (olg_criminal_success_rates[1]+olg_criminal_success_rates[-1])\n",
    "\n",
    "olg_criminal_success_rates_filtered = olg_criminal_success_rates[olg_criminal_success_rates.index != \"\"]\n",
    "\n",
    "count_criminal_olg = olg_criminal_success_rates_filtered[-1].sum() + olg_criminal_success_rates_filtered[1].sum()\n",
    "count_criminal_total = olg_criminal_success_rates[-1].sum() + olg_criminal_success_rates[1].sum()\n",
    "print(\"{} ({}) cases have an OLG as previous instance\".format(count_criminal_olg, count_criminal_olg/count_criminal_total))"
   ]
  },
  {
   "cell_type": "code",
   "execution_count": 0,
   "metadata": {
    "id": "LcrrMuTfemEU",
    "colab_type": "code",
    "outputId": "0630a390-41a0-496c-d31c-58369d5084a7",
    "colab": {
     "base_uri": "https://localhost:8080/",
     "height": 170.0
    }
   },
   "outputs": [
    {
     "data": {
      "text/plain": [
       "count    274.000000\n",
       "mean       0.564800\n",
       "std        0.351188\n",
       "min        0.000000\n",
       "25%        0.348974\n",
       "50%        0.597861\n",
       "75%        1.000000\n",
       "max        1.000000\n",
       "Name: SuccessRate, dtype: float64"
      ]
     },
     "execution_count": 83,
     "metadata": {
      "tags": []
     },
     "output_type": "execute_result"
    }
   ],
   "source": [
    "previous_criminal_success_rates = pd.crosstab(bgh_criminal.DecisionPrevious, \n",
    "                                      bgh_criminal.RevisionOutcome)\n",
    "previous_criminal_success_rates['SuccessRate'] = \\\n",
    "      previous_criminal_success_rates[1] / \\\n",
    "      (previous_criminal_success_rates[1]+previous_criminal_success_rates[-1])\n",
    "\n",
    "previous_criminal_success_rates[previous_criminal_success_rates.index != \"\"] \\\n",
    "      .SuccessRate.describe()"
   ]
  },
  {
   "cell_type": "code",
   "execution_count": 0,
   "metadata": {
    "id": "eR0cJRFot3N8",
    "colab_type": "code",
    "outputId": "302d62b9-4905-4e6b-9a4b-a193c5328f72",
    "colab": {
     "base_uri": "https://localhost:8080/",
     "height": 297.0
    }
   },
   "outputs": [
    {
     "data": {
      "text/html": [
       "<div>\n",
       "<style scoped>\n",
       "    .dataframe tbody tr th:only-of-type {\n",
       "        vertical-align: middle;\n",
       "    }\n",
       "\n",
       "    .dataframe tbody tr th {\n",
       "        vertical-align: top;\n",
       "    }\n",
       "\n",
       "    .dataframe thead th {\n",
       "        text-align: right;\n",
       "    }\n",
       "</style>\n",
       "<table border=\"1\" class=\"dataframe\">\n",
       "  <thead>\n",
       "    <tr style=\"text-align: right;\">\n",
       "      <th>RevisionOutcome</th>\n",
       "      <th>-99</th>\n",
       "      <th>-1</th>\n",
       "      <th>1</th>\n",
       "      <th>SuccessRate</th>\n",
       "    </tr>\n",
       "  </thead>\n",
       "  <tbody>\n",
       "    <tr>\n",
       "      <th>count</th>\n",
       "      <td>318.000000</td>\n",
       "      <td>318.000000</td>\n",
       "      <td>318.000000</td>\n",
       "      <td>274.000000</td>\n",
       "    </tr>\n",
       "    <tr>\n",
       "      <th>mean</th>\n",
       "      <td>0.761006</td>\n",
       "      <td>22.930818</td>\n",
       "      <td>30.638365</td>\n",
       "      <td>0.564800</td>\n",
       "    </tr>\n",
       "    <tr>\n",
       "      <th>std</th>\n",
       "      <td>1.250661</td>\n",
       "      <td>50.873830</td>\n",
       "      <td>63.530201</td>\n",
       "      <td>0.351188</td>\n",
       "    </tr>\n",
       "    <tr>\n",
       "      <th>min</th>\n",
       "      <td>0.000000</td>\n",
       "      <td>0.000000</td>\n",
       "      <td>0.000000</td>\n",
       "      <td>0.000000</td>\n",
       "    </tr>\n",
       "    <tr>\n",
       "      <th>25%</th>\n",
       "      <td>0.000000</td>\n",
       "      <td>0.000000</td>\n",
       "      <td>0.000000</td>\n",
       "      <td>0.348974</td>\n",
       "    </tr>\n",
       "    <tr>\n",
       "      <th>50%</th>\n",
       "      <td>0.000000</td>\n",
       "      <td>1.000000</td>\n",
       "      <td>1.000000</td>\n",
       "      <td>0.597861</td>\n",
       "    </tr>\n",
       "    <tr>\n",
       "      <th>75%</th>\n",
       "      <td>1.000000</td>\n",
       "      <td>24.750000</td>\n",
       "      <td>32.000000</td>\n",
       "      <td>1.000000</td>\n",
       "    </tr>\n",
       "    <tr>\n",
       "      <th>max</th>\n",
       "      <td>8.000000</td>\n",
       "      <td>594.000000</td>\n",
       "      <td>509.000000</td>\n",
       "      <td>1.000000</td>\n",
       "    </tr>\n",
       "  </tbody>\n",
       "</table>\n",
       "</div>"
      ],
      "text/plain": [
       "RevisionOutcome         -99          -1           1  SuccessRate\n",
       "count            318.000000  318.000000  318.000000   274.000000\n",
       "mean               0.761006   22.930818   30.638365     0.564800\n",
       "std                1.250661   50.873830   63.530201     0.351188\n",
       "min                0.000000    0.000000    0.000000     0.000000\n",
       "25%                0.000000    0.000000    0.000000     0.348974\n",
       "50%                0.000000    1.000000    1.000000     0.597861\n",
       "75%                1.000000   24.750000   32.000000     1.000000\n",
       "max                8.000000  594.000000  509.000000     1.000000"
      ]
     },
     "execution_count": 84,
     "metadata": {
      "tags": []
     },
     "output_type": "execute_result"
    }
   ],
   "source": [
    "previous_criminal_success_rates[previous_criminal_success_rates.index != \"\"].describe()"
   ]
  },
  {
   "cell_type": "code",
   "execution_count": 0,
   "metadata": {
    "id": "anKBIpAAhB6U",
    "colab_type": "code",
    "outputId": "0b4e7984-e420-4b80-e939-d67484a02681",
    "colab": {
     "base_uri": "https://localhost:8080/",
     "height": 824.0
    }
   },
   "outputs": [
    {
     "data": {
      "text/html": [
       "<div>\n",
       "<style scoped>\n",
       "    .dataframe tbody tr th:only-of-type {\n",
       "        vertical-align: middle;\n",
       "    }\n",
       "\n",
       "    .dataframe tbody tr th {\n",
       "        vertical-align: top;\n",
       "    }\n",
       "\n",
       "    .dataframe thead th {\n",
       "        text-align: right;\n",
       "    }\n",
       "</style>\n",
       "<table border=\"1\" class=\"dataframe\">\n",
       "  <thead>\n",
       "    <tr style=\"text-align: right;\">\n",
       "      <th>RevisionOutcome</th>\n",
       "      <th>-99</th>\n",
       "      <th>-1</th>\n",
       "      <th>1</th>\n",
       "      <th>SuccessRate</th>\n",
       "      <th>Distance</th>\n",
       "    </tr>\n",
       "    <tr>\n",
       "      <th>DecisionOLG</th>\n",
       "      <th></th>\n",
       "      <th></th>\n",
       "      <th></th>\n",
       "      <th></th>\n",
       "      <th></th>\n",
       "    </tr>\n",
       "  </thead>\n",
       "  <tbody>\n",
       "    <tr>\n",
       "      <th>Kammergericht</th>\n",
       "      <td>16</td>\n",
       "      <td>860</td>\n",
       "      <td>780</td>\n",
       "      <td>0.475610</td>\n",
       "      <td>668</td>\n",
       "    </tr>\n",
       "    <tr>\n",
       "      <th>OLG Bamberg</th>\n",
       "      <td>5</td>\n",
       "      <td>205</td>\n",
       "      <td>133</td>\n",
       "      <td>0.393491</td>\n",
       "      <td>279</td>\n",
       "    </tr>\n",
       "    <tr>\n",
       "      <th>OLG Brandenburg</th>\n",
       "      <td>25</td>\n",
       "      <td>315</td>\n",
       "      <td>282</td>\n",
       "      <td>0.472362</td>\n",
       "      <td>624</td>\n",
       "    </tr>\n",
       "    <tr>\n",
       "      <th>OLG Braunschweig</th>\n",
       "      <td>10</td>\n",
       "      <td>153</td>\n",
       "      <td>157</td>\n",
       "      <td>0.506452</td>\n",
       "      <td>466</td>\n",
       "    </tr>\n",
       "    <tr>\n",
       "      <th>OLG Bremen</th>\n",
       "      <td>6</td>\n",
       "      <td>86</td>\n",
       "      <td>66</td>\n",
       "      <td>0.434211</td>\n",
       "      <td>575</td>\n",
       "    </tr>\n",
       "    <tr>\n",
       "      <th>OLG Celle</th>\n",
       "      <td>33</td>\n",
       "      <td>681</td>\n",
       "      <td>485</td>\n",
       "      <td>0.415952</td>\n",
       "      <td>509</td>\n",
       "    </tr>\n",
       "    <tr>\n",
       "      <th>OLG Dresden</th>\n",
       "      <td>37</td>\n",
       "      <td>507</td>\n",
       "      <td>407</td>\n",
       "      <td>0.445295</td>\n",
       "      <td>548</td>\n",
       "    </tr>\n",
       "    <tr>\n",
       "      <th>OLG Düsseldorf</th>\n",
       "      <td>60</td>\n",
       "      <td>1184</td>\n",
       "      <td>878</td>\n",
       "      <td>0.425800</td>\n",
       "      <td>339</td>\n",
       "    </tr>\n",
       "    <tr>\n",
       "      <th>OLG Frankfurt</th>\n",
       "      <td>65</td>\n",
       "      <td>1328</td>\n",
       "      <td>968</td>\n",
       "      <td>0.421603</td>\n",
       "      <td>145</td>\n",
       "    </tr>\n",
       "    <tr>\n",
       "      <th>OLG Hamburg</th>\n",
       "      <td>19</td>\n",
       "      <td>623</td>\n",
       "      <td>446</td>\n",
       "      <td>0.417212</td>\n",
       "      <td>626</td>\n",
       "    </tr>\n",
       "    <tr>\n",
       "      <th>OLG Hamm</th>\n",
       "      <td>44</td>\n",
       "      <td>885</td>\n",
       "      <td>542</td>\n",
       "      <td>0.379818</td>\n",
       "      <td>406</td>\n",
       "    </tr>\n",
       "    <tr>\n",
       "      <th>OLG Jena</th>\n",
       "      <td>17</td>\n",
       "      <td>205</td>\n",
       "      <td>185</td>\n",
       "      <td>0.474359</td>\n",
       "      <td>419</td>\n",
       "    </tr>\n",
       "    <tr>\n",
       "      <th>OLG Karlsruhe</th>\n",
       "      <td>43</td>\n",
       "      <td>960</td>\n",
       "      <td>567</td>\n",
       "      <td>0.371316</td>\n",
       "      <td>2</td>\n",
       "    </tr>\n",
       "    <tr>\n",
       "      <th>OLG Koblenz</th>\n",
       "      <td>24</td>\n",
       "      <td>405</td>\n",
       "      <td>360</td>\n",
       "      <td>0.470588</td>\n",
       "      <td>209</td>\n",
       "    </tr>\n",
       "    <tr>\n",
       "      <th>OLG Köln</th>\n",
       "      <td>37</td>\n",
       "      <td>919</td>\n",
       "      <td>619</td>\n",
       "      <td>0.402471</td>\n",
       "      <td>301</td>\n",
       "    </tr>\n",
       "    <tr>\n",
       "      <th>OLG München</th>\n",
       "      <td>88</td>\n",
       "      <td>1414</td>\n",
       "      <td>1145</td>\n",
       "      <td>0.447440</td>\n",
       "      <td>284</td>\n",
       "    </tr>\n",
       "    <tr>\n",
       "      <th>OLG Naumburg</th>\n",
       "      <td>15</td>\n",
       "      <td>363</td>\n",
       "      <td>296</td>\n",
       "      <td>0.449165</td>\n",
       "      <td>445</td>\n",
       "    </tr>\n",
       "    <tr>\n",
       "      <th>OLG Nürnberg</th>\n",
       "      <td>15</td>\n",
       "      <td>331</td>\n",
       "      <td>198</td>\n",
       "      <td>0.374291</td>\n",
       "      <td>252</td>\n",
       "    </tr>\n",
       "    <tr>\n",
       "      <th>OLG Oldenburg</th>\n",
       "      <td>13</td>\n",
       "      <td>272</td>\n",
       "      <td>255</td>\n",
       "      <td>0.483871</td>\n",
       "      <td>560</td>\n",
       "    </tr>\n",
       "    <tr>\n",
       "      <th>OLG Rostock</th>\n",
       "      <td>9</td>\n",
       "      <td>184</td>\n",
       "      <td>168</td>\n",
       "      <td>0.477273</td>\n",
       "      <td>797</td>\n",
       "    </tr>\n",
       "    <tr>\n",
       "      <th>OLG Saarbrücken</th>\n",
       "      <td>3</td>\n",
       "      <td>90</td>\n",
       "      <td>57</td>\n",
       "      <td>0.387755</td>\n",
       "      <td>141</td>\n",
       "    </tr>\n",
       "    <tr>\n",
       "      <th>OLG Schleswig</th>\n",
       "      <td>20</td>\n",
       "      <td>311</td>\n",
       "      <td>283</td>\n",
       "      <td>0.476431</td>\n",
       "      <td>748</td>\n",
       "    </tr>\n",
       "    <tr>\n",
       "      <th>OLG Stuttgart</th>\n",
       "      <td>34</td>\n",
       "      <td>666</td>\n",
       "      <td>416</td>\n",
       "      <td>0.384473</td>\n",
       "      <td>85</td>\n",
       "    </tr>\n",
       "    <tr>\n",
       "      <th>OLG Zweibrücken</th>\n",
       "      <td>4</td>\n",
       "      <td>122</td>\n",
       "      <td>101</td>\n",
       "      <td>0.452915</td>\n",
       "      <td>105</td>\n",
       "    </tr>\n",
       "  </tbody>\n",
       "</table>\n",
       "</div>"
      ],
      "text/plain": [
       "RevisionOutcome   -99    -1     1  SuccessRate  Distance\n",
       "DecisionOLG                                             \n",
       "Kammergericht      16   860   780     0.475610       668\n",
       "OLG Bamberg         5   205   133     0.393491       279\n",
       "OLG Brandenburg    25   315   282     0.472362       624\n",
       "OLG Braunschweig   10   153   157     0.506452       466\n",
       "OLG Bremen          6    86    66     0.434211       575\n",
       "OLG Celle          33   681   485     0.415952       509\n",
       "OLG Dresden        37   507   407     0.445295       548\n",
       "OLG Düsseldorf     60  1184   878     0.425800       339\n",
       "OLG Frankfurt      65  1328   968     0.421603       145\n",
       "OLG Hamburg        19   623   446     0.417212       626\n",
       "OLG Hamm           44   885   542     0.379818       406\n",
       "OLG Jena           17   205   185     0.474359       419\n",
       "OLG Karlsruhe      43   960   567     0.371316         2\n",
       "OLG Koblenz        24   405   360     0.470588       209\n",
       "OLG Köln           37   919   619     0.402471       301\n",
       "OLG München        88  1414  1145     0.447440       284\n",
       "OLG Naumburg       15   363   296     0.449165       445\n",
       "OLG Nürnberg       15   331   198     0.374291       252\n",
       "OLG Oldenburg      13   272   255     0.483871       560\n",
       "OLG Rostock         9   184   168     0.477273       797\n",
       "OLG Saarbrücken     3    90    57     0.387755       141\n",
       "OLG Schleswig      20   311   283     0.476431       748\n",
       "OLG Stuttgart      34   666   416     0.384473        85\n",
       "OLG Zweibrücken     4   122   101     0.452915       105"
      ]
     },
     "execution_count": 85,
     "metadata": {
      "tags": []
     },
     "output_type": "execute_result"
    }
   ],
   "source": [
    "def distance_for_olg(olg_name,distance_column):\n",
    "  if len(olg_distances[olg_distances.OLG == olg_name][distance_column].values):\n",
    "    return olg_distances[olg_distances.OLG == olg_name] \\\n",
    "                        [distance_column].values.item(0)\n",
    "  return None\n",
    "\n",
    "olg_civil_success_rates['Distance'] = olg_civil_success_rates.index.map(\n",
    "    lambda olg: distance_for_olg(olg,'BGH Karlsruhe'))\n",
    "olg_civil_success_rates"
   ]
  },
  {
   "cell_type": "code",
   "execution_count": 0,
   "metadata": {
    "id": "PeWlV5nBjVC3",
    "colab_type": "code",
    "outputId": "247c3658-593f-440c-dea9-a829aa9387ce",
    "colab": {
     "base_uri": "https://localhost:8080/",
     "height": 119.0
    }
   },
   "outputs": [
    {
     "name": "stdout",
     "output_type": "stream",
     "text": [
      "Slope:            0.00010710563669288431\n",
      "Intercept:        0.39246317712867884\n",
      "r-value:          0.5911386278051841\n",
      "r-squared-value:  0.349444877283396\n",
      "pvalue:           0.00235026644718121\n",
      "stderr:           3.115686110059794e-05\n"
     ]
    }
   ],
   "source": [
    "from sklearn.compose import ColumnTransformer\n",
    "from sklearn.linear_model import LinearRegression  \n",
    "from scipy import stats\n",
    "\n",
    "linregress_result = stats.linregress(olg_civil_success_rates.Distance,\n",
    "                 olg_civil_success_rates.SuccessRate)\n",
    "\n",
    "print(\"Slope:            {}\".format(linregress_result.slope))\n",
    "print(\"Intercept:        {}\".format(linregress_result.intercept))\n",
    "print(\"r-value:          {}\".format(linregress_result.rvalue))\n",
    "print(\"r-squared-value:  {}\".format(linregress_result.rvalue**2))\n",
    "print(\"pvalue:           {}\".format(linregress_result.pvalue))\n",
    "print(\"stderr:           {}\".format(linregress_result.stderr))\n"
   ]
  },
  {
   "cell_type": "code",
   "execution_count": 0,
   "metadata": {
    "id": "rNeDMrPrVXsS",
    "colab_type": "code",
    "outputId": "8024304f-395d-44a7-df33-fe10bc4c218b",
    "colab": {
     "base_uri": "https://localhost:8080/",
     "height": 34.0
    }
   },
   "outputs": [
    {
     "data": {
      "text/plain": [
       "0.03304910283045973"
      ]
     },
     "execution_count": 87,
     "metadata": {
      "tags": []
     },
     "output_type": "execute_result"
    }
   ],
   "source": [
    "def y_standard_error(x, y, intercept, slope):\n",
    "  return np.sqrt(((intercept+slope*x-y)**2).sum()/(len(x)-2))\n",
    "\n",
    "olg_civil_success_rates_y_standard_error = y_standard_error(olg_civil_success_rates.Distance,\n",
    "                 olg_civil_success_rates.SuccessRate,\n",
    "                 linregress_result.intercept,\n",
    "                 linregress_result.slope)\n",
    "olg_civil_success_rates_y_standard_error"
   ]
  },
  {
   "cell_type": "code",
   "execution_count": 261,
   "metadata": {
    "id": "ojTf04tLyzBV",
    "colab_type": "code",
    "outputId": "17781d74-2116-4f72-9eea-225cf7b9e24a",
    "colab": {
     "base_uri": "https://localhost:8080/",
     "height": 378.0
    }
   },
   "outputs": [
    {
     "data": {
      "text/plain": [
       "<matplotlib.figure.Figure at 0x7f4cb57b0dd8>"
      ]
     },
     "metadata": {
      "tags": []
     },
     "output_type": "display_data"
    },
    {
     "data": {
      "image/png": "[encoded data removed]",
      "text/plain": [
       "<matplotlib.figure.Figure at 0x7f4cb3d04080>"
      ]
     },
     "metadata": {
      "tags": []
     },
     "output_type": "display_data"
    }
   ],
   "source": [
    "y = olg_civil_success_rates.SuccessRate.values\n",
    "x = olg_civil_success_rates.Distance.values\n",
    "\n",
    "plt.figure()\n",
    "\n",
    "gradient, intercept, r_value, p_value, std_err = stats.linregress(x,y)\n",
    "mn=0\n",
    "mx=np.max(x)+30\n",
    "x1=np.linspace(mn,mx,500)\n",
    "y1=gradient*x1+intercept\n",
    "\n",
    "ax = olg_civil_success_rates.plot.scatter(y='SuccessRate', x='Distance', xlim=(mn,np.max(x)+30), ylim=(np.min(y)-.01,np.max(y)+.01), color='k')\n",
    "ax.set_ylabel(\"Success rate\")\n",
    "ax.set_xlabel(\"Distance  [km]\")\n",
    "plt.plot(x1,y1,'-r', color='k')\n",
    "plt.savefig('Results/LinearRegressionSuccessDistance.png', bbox_inches='tight', format='png', dpi=600)\n"
   ]
  },
  {
   "cell_type": "markdown",
   "metadata": {
    "id": "K8q13Q1BbLEj",
    "colab_type": "text"
   },
   "source": [
    "### Judges"
   ]
  },
  {
   "cell_type": "code",
   "execution_count": 0,
   "metadata": {
    "id": "UoDDxTEs18fv",
    "colab_type": "code",
    "colab": {}
   },
   "outputs": [],
   "source": [
    "bgh_docket_number_judges_exploded = []\n",
    "\n",
    "for _,decision in bgh_main_senats.iterrows():\n",
    "  for judge in decision.Judges.split(','):\n",
    "    bgh_docket_number_judges_exploded.append([\n",
    "        decision.RevisionOutcome,\n",
    "        decision.Senat,\n",
    "        decision.Criminal,\n",
    "        judge,\n",
    "    ])\n",
    "bgh_docket_number_judges_exploded = pd.DataFrame( \\\n",
    "    bgh_docket_number_judges_exploded, \\\n",
    "    columns=['RevisionOutcome','Senat','Criminal','Judge'])"
   ]
  },
  {
   "cell_type": "code",
   "execution_count": 0,
   "metadata": {
    "id": "sjwCEsAm5I84",
    "colab_type": "code",
    "colab": {}
   },
   "outputs": [],
   "source": [
    "judges_success_rates = pd.crosstab([\n",
    "            bgh_docket_number_judges_exploded.Criminal,\n",
    "            bgh_docket_number_judges_exploded.Senat,\n",
    "            bgh_docket_number_judges_exploded.Judge],\n",
    "            bgh_docket_number_judges_exploded.RevisionOutcome)\n",
    "judges_success_rates['Recognized'] = judges_success_rates.apply(lambda row: \\\n",
    "      row[1]+row[-1]\n",
    "      , axis=1)\n",
    "judges_success_rates['SuccessRate'] = judges_success_rates.apply(lambda row: \\\n",
    "      row[1]/row.Recognized if row.Recognized>0 else None\n",
    "      , axis=1)\n",
    "judges_success_rates = judges_success_rates.reset_index(level=['Criminal','Senat','Judge'])\n",
    "judges_success_rates = judges_success_rates[ \\\n",
    "    judges_success_rates.Judge != \"\"]"
   ]
  },
  {
   "cell_type": "code",
   "execution_count": 0,
   "metadata": {
    "id": "oeQXzf-jAizu",
    "colab_type": "code",
    "outputId": "65bd891f-0228-4a24-f8bd-8784997e95d0",
    "colab": {
     "base_uri": "https://localhost:8080/",
     "height": 170.0
    }
   },
   "outputs": [
    {
     "data": {
      "text/plain": [
       "count    198.000000\n",
       "mean       0.458059\n",
       "std        0.101997\n",
       "min        0.170732\n",
       "25%        0.405278\n",
       "50%        0.477168\n",
       "75%        0.519436\n",
       "max        0.746875\n",
       "Name: SuccessRate, dtype: float64"
      ]
     },
     "execution_count": 91,
     "metadata": {
      "tags": []
     },
     "output_type": "execute_result"
    }
   ],
   "source": [
    "judges_success_rates_civil = judges_success_rates[ \\\n",
    "      judges_success_rates.Criminal != True]\n",
    "judges_success_rates_civil[ \\\n",
    "      judges_success_rates_civil.Recognized>=100].SuccessRate.describe()"
   ]
  },
  {
   "cell_type": "code",
   "execution_count": 0,
   "metadata": {
    "id": "IDCqZ9cybN8S",
    "colab_type": "code",
    "outputId": "61629f17-6610-42ab-f259-9baed3c4c550",
    "colab": {
     "base_uri": "https://localhost:8080/",
     "height": 170.0
    }
   },
   "outputs": [
    {
     "data": {
      "text/plain": [
       "count    92.000000\n",
       "mean      0.552434\n",
       "std       0.102745\n",
       "min       0.328933\n",
       "25%       0.486185\n",
       "50%       0.577330\n",
       "75%       0.639064\n",
       "max       0.748792\n",
       "Name: SuccessRate, dtype: float64"
      ]
     },
     "execution_count": 92,
     "metadata": {
      "tags": []
     },
     "output_type": "execute_result"
    }
   ],
   "source": [
    "judges_success_rates_criminal = judges_success_rates[ \\\n",
    "      judges_success_rates.Criminal]\n",
    "judges_success_rates_criminal[ \\\n",
    "      judges_success_rates_criminal.Recognized>=100].SuccessRate.describe()"
   ]
  },
  {
   "cell_type": "code",
   "execution_count": 0,
   "metadata": {
    "id": "mKUxVKxJ1i6D",
    "colab_type": "code",
    "colab": {}
   },
   "outputs": [],
   "source": [
    "judges_success_rates['Óther-1'] = judges_success_rates.apply(\n",
    "    lambda row: senats_success_rates.loc[row.Senat][-1] - row[-1]\n",
    "    ,axis=1)\n",
    "judges_success_rates['Óther1'] = judges_success_rates.apply(\n",
    "    lambda row: senats_success_rates.loc[row.Senat][1] - row[1]\n",
    "    ,axis=1)"
   ]
  },
  {
   "cell_type": "code",
   "execution_count": 0,
   "metadata": {
    "id": "qKUhpV2yG1LG",
    "colab_type": "code",
    "colab": {}
   },
   "outputs": [],
   "source": [
    "from scipy.stats import chi2_contingency\n",
    "import math\n",
    "\n",
    "def calculate_chisquare_test(row):\n",
    "  obs = [[row[1], row[-1]],\n",
    "         [row['Óther1'], row['Óther-1']]]\n",
    "  for a in [row[1], row[-1], row['Óther1'], row['Óther-1']]:\n",
    "    if a < 5:\n",
    "      return None\n",
    "  chi2_test = chi2_contingency(obs)\n",
    "  p = chi2_test[1]\n",
    "  phi = math.sqrt(chi2_test[0]/(row[1] + row[-1] + row['Óther1'] + row['Óther-1']))\n",
    "\n",
    "  return (p, phi)\n",
    "\n",
    "chi2_test_results = judges_success_rates.apply(calculate_chisquare_test, axis=1)\n",
    "judges_success_rates[\"chi2p\"]   = [(round(obj[0], 6)   if obj else None) \\\n",
    "                                   for obj in chi2_test_results] \n",
    "judges_success_rates[\"chi2phi\"] = [(round(obj[1], 6) if obj else None) \\\n",
    "                                   for obj in chi2_test_results]\n",
    "significant_judges_success_rates = judges_success_rates[judges_success_rates.chi2p <= 0.01]\n",
    "significant_judges_success_rates = significant_judges_success_rates[ \\\n",
    "      significant_judges_success_rates.chi2phi >=0.1]\n"
   ]
  },
  {
   "cell_type": "code",
   "execution_count": 0,
   "metadata": {
    "id": "zF4pHZyaavNR",
    "colab_type": "code",
    "outputId": "c940457f-605c-4eb8-8849-1e7756e953b7",
    "colab": {
     "base_uri": "https://localhost:8080/",
     "height": 34.0
    }
   },
   "outputs": [
    {
     "name": "stdout",
     "output_type": "stream",
     "text": [
      "Significant judges: 35\n"
     ]
    }
   ],
   "source": [
    "print(\"Significant judges: {}\".format(len(significant_judges_success_rates)))"
   ]
  },
  {
   "cell_type": "code",
   "execution_count": 0,
   "metadata": {
    "id": "a79-uCNl90Z6",
    "colab_type": "code",
    "outputId": "ab634dec-b1c1-4104-d6a4-a3cde991f76c",
    "colab": {
     "base_uri": "https://localhost:8080/",
     "height": 170.0
    }
   },
   "outputs": [
    {
     "data": {
      "text/plain": [
       "count    35.000000\n",
       "mean      0.128829\n",
       "std       0.033543\n",
       "min       0.100032\n",
       "25%       0.106302\n",
       "50%       0.116810\n",
       "75%       0.139601\n",
       "max       0.237724\n",
       "Name: chi2phi, dtype: float64"
      ]
     },
     "execution_count": 96,
     "metadata": {
      "tags": []
     },
     "output_type": "execute_result"
    }
   ],
   "source": [
    "# Cramer's V of significant judges\n",
    "significant_judges_success_rates.chi2phi.describe()"
   ]
  },
  {
   "cell_type": "code",
   "execution_count": 0,
   "metadata": {
    "id": "LkyBjmJH3rly",
    "colab_type": "code",
    "outputId": "149a1951-7df0-45a5-8229-217388715384",
    "colab": {
     "base_uri": "https://localhost:8080/",
     "height": 51.0
    }
   },
   "outputs": [
    {
     "name": "stdout",
     "output_type": "stream",
     "text": [
      "Significantly lower judges 17\n",
      "Significantly higher judges 18\n"
     ]
    }
   ],
   "source": [
    "other_judges_success_rates = significant_judges_success_rates.Óther1 / \\\n",
    "                    (significant_judges_success_rates.Óther1 + \\\n",
    "                    significant_judges_success_rates['Óther-1'])\n",
    "\n",
    "judges_lower_count = len(significant_judges_success_rates[\n",
    "                   significant_judges_success_rates.SuccessRate < \n",
    "                   other_judges_success_rates\n",
    "                   ])\n",
    "\n",
    "judges_higher_count = len(significant_judges_success_rates[\n",
    "                   significant_judges_success_rates.SuccessRate >= \n",
    "                   other_judges_success_rates\n",
    "                   ])\n",
    "\n",
    "print(\"Significantly lower judges {}\".format(judges_lower_count))\n",
    "print(\"Significantly higher judges {}\".format(judges_higher_count))"
   ]
  },
  {
   "cell_type": "code",
   "execution_count": 0,
   "metadata": {
    "id": "iCJEm-UfK0ac",
    "colab_type": "code",
    "outputId": "64414a43-85ce-42e5-a51b-5acc755f9ca5",
    "colab": {
     "base_uri": "https://localhost:8080/",
     "height": 119.0
    }
   },
   "outputs": [
    {
     "name": "stdout",
     "output_type": "stream",
     "text": [
      "Slope:            8.626170429016421e-05\n",
      "Intercept:        0.21706362198553958\n",
      "r-value:          0.5452020196860008\n",
      "r-squared-value:  0.2972452422696944\n",
      "pvalue:           0.34194174269280125\n",
      "stderr:           7.657761712691041e-05\n"
     ]
    }
   ],
   "source": [
    "linregress_result = stats.linregress(\n",
    "      senats_success_rates[senats_success_rates.Criminal==True].Total,\n",
    "      senats_success_rates[senats_success_rates.Criminal==True].SuccessRate)\n",
    "\n",
    "print(\"Slope:            {}\".format(linregress_result.slope))\n",
    "print(\"Intercept:        {}\".format(linregress_result.intercept))\n",
    "print(\"r-value:          {}\".format(linregress_result.rvalue))\n",
    "print(\"r-squared-value:  {}\".format(linregress_result.rvalue**2))\n",
    "print(\"pvalue:           {}\".format(linregress_result.pvalue))\n",
    "print(\"stderr:           {}\".format(linregress_result.stderr))"
   ]
  },
  {
   "cell_type": "code",
   "execution_count": 0,
   "metadata": {
    "id": "iFp3tYewRIfc",
    "colab_type": "code",
    "outputId": "697fbddb-a5d7-4c5d-f3d9-62c001a404aa",
    "colab": {
     "base_uri": "https://localhost:8080/",
     "height": 119.0
    }
   },
   "outputs": [
    {
     "name": "stdout",
     "output_type": "stream",
     "text": [
      "Slope:            -4.331577419799812e-05\n",
      "Intercept:        0.5684954832553419\n",
      "r-value:          -0.5693398546258986\n",
      "r-squared-value:  0.3241478700654394\n",
      "pvalue:           0.053335194144576284\n",
      "stderr:           1.9778818189863415e-05\n"
     ]
    }
   ],
   "source": [
    "linregress_result = stats.linregress(\n",
    "      senats_success_rates[senats_success_rates.Criminal!=True].Total,\n",
    "      senats_success_rates[senats_success_rates.Criminal!=True].SuccessRate)\n",
    "\n",
    "print(\"Slope:            {}\".format(linregress_result.slope))\n",
    "print(\"Intercept:        {}\".format(linregress_result.intercept))\n",
    "print(\"r-value:          {}\".format(linregress_result.rvalue))\n",
    "print(\"r-squared-value:  {}\".format(linregress_result.rvalue**2))\n",
    "print(\"pvalue:           {}\".format(linregress_result.pvalue))\n",
    "print(\"stderr:           {}\".format(linregress_result.stderr))"
   ]
  }
 ],
 "metadata": {
  "colab": {
   "name": "LSIA.ipynb",
   "version": "0.3.2",
   "provenance": [],
   "collapsed_sections": [],
   "toc_visible": true
  },
  "kernelspec": {
   "name": "python3",
   "display_name": "Python 3"
  }
 },
 "nbformat": 4,
 "nbformat_minor": 0
}
